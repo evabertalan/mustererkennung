{
 "cells": [
  {
   "cell_type": "code",
   "execution_count": 1,
   "metadata": {
    "collapsed": true
   },
   "outputs": [],
   "source": [
    "import numpy as np\n",
    "import pandas as pd\n",
    "from sklearn.decomposition import PCA\n",
    "import matplotlib.pyplot as plt\n",
    "%matplotlib inline"
   ]
  },
  {
   "cell_type": "markdown",
   "metadata": {},
   "source": [
    "## Excercise 1. Perceptron"
   ]
  },
  {
   "cell_type": "code",
   "execution_count": 2,
   "metadata": {
    "collapsed": true
   },
   "outputs": [],
   "source": [
    "def load_data(file_name, encode_labels):\n",
    "    data = np.array(pd.read_csv(file_name))\n",
    "    np.random.shuffle(data)\n",
    "    X, y =  encode_labels(data[:,0:-1], data[:,-1])\n",
    "    plot_dataset(X)\n",
    "    split_index = int(len(X)*0.8)\n",
    "    X_train, X_test = X[0:split_index], X[split_index:]\n",
    "    y_train, y_test = y[0:split_index], y[split_index:]\n",
    "    return X_train, y_train, X_test, y_test"
   ]
  },
  {
   "cell_type": "code",
   "execution_count": 3,
   "metadata": {
    "collapsed": true
   },
   "outputs": [],
   "source": [
    "def plot_dataset(X):\n",
    "    pca = PCA(n_components=2)\n",
    "    x_ = pca.fit_transform(X)\n",
    "    plt.scatter(*x_.T, s=8)"
   ]
  },
  {
   "cell_type": "code",
   "execution_count": 4,
   "metadata": {
    "collapsed": true
   },
   "outputs": [],
   "source": [
    "def separate_setosa(X, labels):\n",
    "    y = [0 if l == 'Iris-setosa' else 1 for l in labels]\n",
    "    return np.array(X), np.array(y)"
   ]
  },
  {
   "cell_type": "code",
   "execution_count": 5,
   "metadata": {},
   "outputs": [],
   "source": [
    "def separate_virginica(X, labels):\n",
    "    y_ = labels[np.where(labels != 'Iris-setosa')]\n",
    "    X_ = X[np.where(labels != 'Iris-setosa')]\n",
    "    y = [0 if l == 'Iris-virginica' else 1 for l in y_]\n",
    "    return np.array(X_), np.array(y)"
   ]
  },
  {
   "cell_type": "code",
   "execution_count": 6,
   "metadata": {},
   "outputs": [],
   "source": [
    "class Perceptron:\n",
    "    def __init__(self, T, learning_rate=0.1):\n",
    "        self.T = T\n",
    "        self.lr = learning_rate\n",
    "        self.accuracy = []\n",
    "        self.weights = None\n",
    "        self.b = None\n",
    "    \n",
    "    def train(self, X, y):\n",
    "        w = np.zeros(len(X[0]))\n",
    "        b = 0\n",
    "        for t in range(self.T):\n",
    "            for i, x in enumerate(X):\n",
    "                y_= 1 if np.dot(w.T, x)+b >= 0 else 0\n",
    "                error = y[i] - y_\n",
    "                self.accuracy.append(error)\n",
    "                b = b + self.lr * error\n",
    "                w = np.array([w[j] + self.lr*(error)*x[j] for j in range(len(w))])\n",
    "        self.weights = w\n",
    "        self.b = b\n",
    "        \n",
    "    def predict(self, X):\n",
    "        prediction = []\n",
    "        for i, x in enumerate(X):\n",
    "            y= 1 if np.dot(self.weights.T, x) + self.b >= 0 else 0\n",
    "            prediction.append(y)\n",
    "        return prediction"
   ]
  },
  {
   "cell_type": "code",
   "execution_count": 7,
   "metadata": {},
   "outputs": [
    {
     "data": {
      "image/png": "[encoded data removed]",
      "text/plain": [
       "<matplotlib.figure.Figure at 0x111c36e80>"
      ]
     },
     "metadata": {},
     "output_type": "display_data"
    }
   ],
   "source": [
    "X_train, y_train, X_test, y_test = load_data('iris.data', separate_setosa)"
   ]
  },
  {
   "cell_type": "code",
   "execution_count": 8,
   "metadata": {},
   "outputs": [],
   "source": [
    "prec_setosa = Perceptron(3)\n",
    "prec_setosa.train(X_train, y_train)\n",
    "prediction_setosa = prec_setosa.predict(X_test)"
   ]
  },
  {
   "cell_type": "code",
   "execution_count": 9,
   "metadata": {},
   "outputs": [
    {
     "name": "stdout",
     "output_type": "stream",
     "text": [
      "Accuracy:  100.0 %\n"
     ]
    }
   ],
   "source": [
    "accuracy = (1-(len(np.where(prediction_setosa != y_test)[0])/len(y_test)))*100\n",
    "print('Accuracy: ', accuracy, '%')"
   ]
  },
  {
   "cell_type": "markdown",
   "metadata": {},
   "source": [
    "### a) Separate Versicolour from Virginica:"
   ]
  },
  {
   "cell_type": "code",
   "execution_count": 10,
   "metadata": {},
   "outputs": [
    {
     "data": {
      "image/png": "[encoded data removed]",
      "text/plain": [
       "<matplotlib.figure.Figure at 0x10bed1208>"
      ]
     },
     "metadata": {},
     "output_type": "display_data"
    }
   ],
   "source": [
    "X_train, y_train, X_test, y_test = load_data('iris.data', separate_virginica)"
   ]
  },
  {
   "cell_type": "code",
   "execution_count": 11,
   "metadata": {
    "collapsed": true
   },
   "outputs": [],
   "source": [
    "prec_virginica = Perceptron(3)\n",
    "prec_virginica.train(X_train, y_train)\n",
    "prediction_virginica = prec_virginica.predict(X_test)"
   ]
  },
  {
   "cell_type": "code",
   "execution_count": 12,
   "metadata": {},
   "outputs": [
    {
     "name": "stdout",
     "output_type": "stream",
     "text": [
      "Accuracy:  95.0 %\n"
     ]
    }
   ],
   "source": [
    "accuracy = (1-(len(np.where(prediction_virginica != y_test)[0])/len(y_test)))*100\n",
    "print('Accuracy: ', accuracy, '%')"
   ]
  },
  {
   "cell_type": "code",
   "execution_count": null,
   "metadata": {
    "collapsed": true
   },
   "outputs": [],
   "source": []
  }
 ],
 "metadata": {
  "kernelspec": {
   "display_name": "Python 3",
   "language": "python",
   "name": "python3"
  },
  "language_info": {
   "codemirror_mode": {
    "name": "ipython",
    "version": 3
   },
   "file_extension": ".py",
   "mimetype": "text/x-python",
   "name": "python",
   "nbconvert_exporter": "python",
   "pygments_lexer": "ipython3",
   "version": "3.6.3"
  },
  "latex_envs": {
   "LaTeX_envs_menu_present": true,
   "autoclose": false,
   "autocomplete": true,
   "bibliofile": "biblio.bib",
   "cite_by": "apalike",
   "current_citInitial": 1,
   "eqLabelWithNumbers": true,
   "eqNumInitial": 1,
   "hotkeys": {
    "equation": "Ctrl-E",
    "itemize": "Ctrl-I"
   },
   "labels_anchors": false,
   "latex_user_defs": false,
   "report_style_numbering": false,
   "user_envs_cfg": false
  }
 },
 "nbformat": 4,
 "nbformat_minor": 2
}

{
 "cells": [
  {
   "cell_type": "markdown",
   "metadata": {},
   "source": [
    "# Solution 08\n",
    "Machine Learning WiSe 18/19"
   ]
  },
  {
   "cell_type": "markdown",
   "metadata": {},
   "source": [
    "Martin Dreher, Adriana Pinto, Eva Bertalan"
   ]
  },
  {
   "cell_type": "code",
   "execution_count": 1,
   "metadata": {
    "collapsed": true
   },
   "outputs": [],
   "source": [
    "import numpy as np\n",
    "import pandas as pd\n",
    "from sklearn.decomposition import PCA\n",
    "import matplotlib.pyplot as plt\n",
    "%matplotlib inline"
   ]
  },
  {
   "cell_type": "markdown",
   "metadata": {},
   "source": [
    "## Excercise 1. Perceptron"
   ]
  },
  {
   "cell_type": "code",
   "execution_count": 2,
   "metadata": {
    "collapsed": true
   },
   "outputs": [],
   "source": [
    "def load_data(file_name, encode_labels):\n",
    "    data = np.array(pd.read_csv(file_name))\n",
    "    np.random.shuffle(data)\n",
    "    X, y =  encode_labels(data[:,0:-1], data[:,-1])\n",
    "    plot_dataset(X, y)\n",
    "    split_index = int(len(X)*0.8)\n",
    "    X_train, X_test = X[0:split_index], X[split_index:]\n",
    "    y_train, y_test = y[0:split_index], y[split_index:]\n",
    "    return X_train, y_train, X_test, y_test"
   ]
  },
  {
   "cell_type": "code",
   "execution_count": 3,
   "metadata": {},
   "outputs": [],
   "source": [
    "def plot_dataset(X, y):\n",
    "    pca = PCA(n_components=2)\n",
    "    x_ = pca.fit_transform(X)\n",
    "    plt.scatter(*x_.T, s=8, c=y)"
   ]
  },
  {
   "cell_type": "code",
   "execution_count": 4,
   "metadata": {
    "collapsed": true
   },
   "outputs": [],
   "source": [
    "def separate_setosa(X, labels):\n",
    "    y = [0 if l == 'Iris-setosa' else 1 for l in labels]\n",
    "    return np.array(X), np.array(y)"
   ]
  },
  {
   "cell_type": "code",
   "execution_count": 5,
   "metadata": {},
   "outputs": [],
   "source": [
    "def separate_virginica(X, labels):\n",
    "    y_ = labels[np.where(labels != 'Iris-setosa')]\n",
    "    X_ = X[np.where(labels != 'Iris-setosa')]\n",
    "    y = [0 if l == 'Iris-virginica' else 1 for l in y_]\n",
    "    return np.array(X_), np.array(y)"
   ]
  },
  {
   "cell_type": "code",
   "execution_count": 6,
   "metadata": {
    "collapsed": true
   },
   "outputs": [],
   "source": [
    "class Perceptron:\n",
    "    def __init__(self, T, learning_rate=0.1):\n",
    "        self.T = T\n",
    "        self.lr = learning_rate\n",
    "        self.weights = None\n",
    "        self.b = None\n",
    "    \n",
    "    def train(self, X, y):\n",
    "        w = np.zeros(len(X[0]))\n",
    "        b = 0\n",
    "        for t in range(self.T):\n",
    "            for i, x in enumerate(X):\n",
    "                y_= 1 if np.dot(w.T, x)+b >= 0 else 0\n",
    "                error = y[i] - y_\n",
    "                b = b + self.lr * error\n",
    "                w = np.array([w[j] + self.lr*(error)*x[j] for j in range(len(w))])\n",
    "        self.weights = w\n",
    "        self.b = b\n",
    "        return self\n",
    "        \n",
    "    def predict(self, X):\n",
    "        prediction = []\n",
    "        for i, x in enumerate(X):\n",
    "            y= 1 if np.dot(self.weights.T, x) + self.b >= 0 else 0\n",
    "            prediction.append(y)\n",
    "        return prediction"
   ]
  },
  {
   "cell_type": "code",
   "execution_count": 7,
   "metadata": {},
   "outputs": [
    {
     "data": {
      "image/png": "[encoded data removed]",
      "text/plain": [
       "<matplotlib.figure.Figure at 0x115f25ef0>"
      ]
     },
     "metadata": {},
     "output_type": "display_data"
    }
   ],
   "source": [
    "X_train, y_train, X_test, y_test = load_data('iris.data', separate_setosa)"
   ]
  },
  {
   "cell_type": "code",
   "execution_count": 8,
   "metadata": {},
   "outputs": [],
   "source": [
    "prec_setosa = Perceptron(1)\n",
    "prec_setosa.train(X_train, y_train)\n",
    "prediction_setosa = prec_setosa.predict(X_test)"
   ]
  },
  {
   "cell_type": "code",
   "execution_count": 9,
   "metadata": {},
   "outputs": [
    {
     "name": "stdout",
     "output_type": "stream",
     "text": [
      "Accuracy:  100.0 %\n"
     ]
    }
   ],
   "source": [
    "accuracy = (1-(len(np.where(prediction_setosa != y_test)[0])/len(y_test)))*100\n",
    "print('Accuracy: ', accuracy, '%')"
   ]
  },
  {
   "cell_type": "markdown",
   "metadata": {},
   "source": [
    "### a) Separate Versicolour from Virginica:"
   ]
  },
  {
   "cell_type": "code",
   "execution_count": 11,
   "metadata": {},
   "outputs": [
    {
     "data": {
      "image/png": "[encoded data removed]",
      "text/plain": [
       "<matplotlib.figure.Figure at 0x11b322390>"
      ]
     },
     "metadata": {},
     "output_type": "display_data"
    }
   ],
   "source": [
    "X_train2, y_train2, X_test2, y_test2 = load_data('iris.data', separate_virginica)"
   ]
  },
  {
   "cell_type": "code",
   "execution_count": 12,
   "metadata": {
    "collapsed": true
   },
   "outputs": [],
   "source": [
    "prec_virginica = Perceptron(1)"
   ]
  },
  {
   "cell_type": "code",
   "execution_count": 13,
   "metadata": {},
   "outputs": [],
   "source": [
    "prec_virginica.train(X_train2, y_train2)\n",
    "prediction_virginica = prec_virginica.predict(X_test2)"
   ]
  },
  {
   "cell_type": "code",
   "execution_count": 14,
   "metadata": {},
   "outputs": [
    {
     "name": "stdout",
     "output_type": "stream",
     "text": [
      "Accuracy:  60.0 %\n"
     ]
    }
   ],
   "source": [
    "accuracy = (1-(len(np.where(prediction_virginica != y_test2)[0])/len(y_test2)))*100\n",
    "print('Accuracy: ', accuracy, '%')"
   ]
  },
  {
   "cell_type": "markdown",
   "metadata": {},
   "source": [
    "Because this two classes are really close to each other, they can not be perfectly separated by linear hyperplane, and some samples are always missclassified."
   ]
  },
  {
   "cell_type": "markdown",
   "metadata": {},
   "source": [
    "### b) \n",
    "With Support Vector Machine (SVM) Versicolour from Virginica is also separable, it finds the maximum margin hyperplane to separate the features."
   ]
  },
  {
   "cell_type": "code",
   "execution_count": 15,
   "metadata": {},
   "outputs": [],
   "source": [
    "from sklearn import svm\n",
    "model = svm.SVC(gamma=0.1)\n",
    "model.fit(X_train2, y_train2)\n",
    "pred = model.predict(X_test2)"
   ]
  },
  {
   "cell_type": "code",
   "execution_count": 16,
   "metadata": {},
   "outputs": [
    {
     "name": "stdout",
     "output_type": "stream",
     "text": [
      "Accuracy:  90.0 %\n"
     ]
    }
   ],
   "source": [
    "accuracy = (1-(len(np.where(pred != y_test2)[0])/len(y_test2)))*100\n",
    "print('Accuracy: ', accuracy, '%')"
   ]
  },
  {
   "cell_type": "markdown",
   "metadata": {
    "collapsed": true
   },
   "source": [
    "## Excercise 2. The XOR-Problem"
   ]
  },
  {
   "cell_type": "code",
   "execution_count": 17,
   "metadata": {
    "collapsed": true
   },
   "outputs": [],
   "source": [
    "def _or(x):\n",
    "    w = np.array([1, 1])\n",
    "    b = -0.5\n",
    "    \n",
    "    return 1 if np.dot(w.T, x)+b >= 0 else 0"
   ]
  },
  {
   "cell_type": "code",
   "execution_count": 18,
   "metadata": {},
   "outputs": [
    {
     "name": "stdout",
     "output_type": "stream",
     "text": [
      "0 or 0:  0\n",
      "0 or 1:  1\n",
      "1 or 0:  1\n",
      "1 or 1:  1\n"
     ]
    }
   ],
   "source": [
    "print('0 or 0: ',_or([0, 0]))\n",
    "print('0 or 1: ',_or([0, 1]))\n",
    "print('1 or 0: ',_or([1, 0]))\n",
    "print('1 or 1: ',_or([1, 1]))"
   ]
  },
  {
   "cell_type": "markdown",
   "metadata": {},
   "source": [
    "### a) "
   ]
  },
  {
   "cell_type": "markdown",
   "metadata": {},
   "source": [
    "The or function linearly separable, the output can be represented as linear combination of its inputs."
   ]
  },
  {
   "cell_type": "code",
   "execution_count": 19,
   "metadata": {},
   "outputs": [
    {
     "data": {
      "text/plain": [
       "[<matplotlib.lines.Line2D at 0x11b413390>]"
      ]
     },
     "execution_count": 19,
     "metadata": {},
     "output_type": "execute_result"
    },
    {
     "data": {
      "image/png": "[encoded data removed]",
      "text/plain": [
       "<matplotlib.figure.Figure at 0x11b4131d0>"
      ]
     },
     "metadata": {},
     "output_type": "display_data"
    }
   ],
   "source": [
    "x_12 = np.array([[0, 0], [0, 1], [1, 0], [1, 1]])\n",
    "y = [0, 1, 1, 1]\n",
    "plt.scatter(*x_12.T, c=y)\n",
    "x = np.linspace(0,1,5)\n",
    "y = -x+0.5\n",
    "plt.plot(x, y)"
   ]
  },
  {
   "cell_type": "markdown",
   "metadata": {},
   "source": [
    "### b)"
   ]
  },
  {
   "cell_type": "markdown",
   "metadata": {},
   "source": [
    "XOR operation: \t$A\\cdot\\overline{B} + \\overline{A}\\cdot B$\n",
    "The outputs are not linearly separable.\n",
    "In this case there is no 1 line which divides the points into two classes. The problem can not be solved with a single perceptron."
   ]
  },
  {
   "cell_type": "code",
   "execution_count": 20,
   "metadata": {},
   "outputs": [
    {
     "data": {
      "text/plain": [
       "<matplotlib.collections.PathCollection at 0x11b596c50>"
      ]
     },
     "execution_count": 20,
     "metadata": {},
     "output_type": "execute_result"
    },
    {
     "data": {
      "image/png": "[encoded data removed]",
      "text/plain": [
       "<matplotlib.figure.Figure at 0x11b4fac18>"
      ]
     },
     "metadata": {},
     "output_type": "display_data"
    }
   ],
   "source": [
    "x_12 = np.array([[0, 0], [0, 1], [1, 0], [1, 1]])\n",
    "y = [0, 1, 1, 0]\n",
    "plt.scatter(*x_12.T, c=y)"
   ]
  }
 ],
 "metadata": {
  "kernelspec": {
   "display_name": "Python 3",
   "language": "python",
   "name": "python3"
  },
  "language_info": {
   "codemirror_mode": {
    "name": "ipython",
    "version": 3
   },
   "file_extension": ".py",
   "mimetype": "text/x-python",
   "name": "python",
   "nbconvert_exporter": "python",
   "pygments_lexer": "ipython3",
   "version": "3.6.3"
  },
  "latex_envs": {
   "LaTeX_envs_menu_present": true,
   "autoclose": false,
   "autocomplete": true,
   "bibliofile": "biblio.bib",
   "cite_by": "apalike",
   "current_citInitial": 1,
   "eqLabelWithNumbers": true,
   "eqNumInitial": 1,
   "hotkeys": {
    "equation": "Ctrl-E",
    "itemize": "Ctrl-I"
   },
   "labels_anchors": false,
   "latex_user_defs": false,
   "report_style_numbering": false,
   "user_envs_cfg": false
  }
 },
 "nbformat": 4,
 "nbformat_minor": 2
}

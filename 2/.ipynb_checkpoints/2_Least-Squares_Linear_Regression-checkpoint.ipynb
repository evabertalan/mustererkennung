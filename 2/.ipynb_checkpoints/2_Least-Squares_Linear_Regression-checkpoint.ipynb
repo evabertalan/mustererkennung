{
 "cells": [
  {
   "cell_type": "markdown",
   "metadata": {},
   "source": [
    "## Assignement 2 - Least-Squares Linear Regression"
   ]
  },
  {
   "cell_type": "code",
   "execution_count": 4,
   "metadata": {
    "collapsed": true
   },
   "outputs": [],
   "source": [
    "import numpy as np\n",
    "import pandas as pd\n",
    "from matplotlib import pyplot as plt"
   ]
  },
  {
   "cell_type": "code",
   "execution_count": 17,
   "metadata": {},
   "outputs": [],
   "source": [
    "training_data = np.array(pd.read_csv('zip.train', sep=' ', header=None))\n",
    "test_data = np.array(pd.read_csv('zip.test', sep =' ',header=None))\n",
    "\n",
    "x_train, y_train = training_data[:,1:-1], training_data[:,0]\n",
    "x_test, y_test = test_data[:,1:], test_data[:,0]"
   ]
  },
  {
   "cell_type": "code",
   "execution_count": 41,
   "metadata": {},
   "outputs": [],
   "source": [
    "def labels_to_one_hot(labels):\n",
    "    onehot_encoded = []\n",
    "    for label in labels:\n",
    "        vector = np.zeros(10)\n",
    "        vector[int(label)] = 1\n",
    "        onehot_encoded.append(vector)\n",
    "    return np.array(onehot_encoded)"
   ]
  },
  {
   "cell_type": "code",
   "execution_count": 57,
   "metadata": {},
   "outputs": [],
   "source": [
    "def one_hot_to_labels(one_hots):\n",
    "    inverted = []\n",
    "    for one_hot in one_hots:\n",
    "        inverted.append(np.where(one_hot==1)[0][0])\n",
    "    return np.array(inverted)"
   ]
  },
  {
   "cell_type": "code",
   "execution_count": null,
   "metadata": {
    "collapsed": true
   },
   "outputs": [],
   "source": []
  }
 ],
 "metadata": {
  "kernelspec": {
   "display_name": "Python 3",
   "language": "python",
   "name": "python3"
  },
  "language_info": {
   "codemirror_mode": {
    "name": "ipython",
    "version": 3
   },
   "file_extension": ".py",
   "mimetype": "text/x-python",
   "name": "python",
   "nbconvert_exporter": "python",
   "pygments_lexer": "ipython3",
   "version": "3.6.3"
  }
 },
 "nbformat": 4,
 "nbformat_minor": 2
}

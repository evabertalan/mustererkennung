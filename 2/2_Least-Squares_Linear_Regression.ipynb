{
 "cells": [
  {
   "cell_type": "markdown",
   "metadata": {},
   "source": [
    "## Assignement 2 - Least-Squares Linear Regression"
   ]
  },
  {
   "cell_type": "code",
   "execution_count": 68,
   "metadata": {
    "collapsed": true
   },
   "outputs": [],
   "source": [
    "import numpy as np\n",
    "import pandas as pd\n",
    "from matplotlib import pyplot as plt"
   ]
  },
  {
   "cell_type": "code",
   "execution_count": 69,
   "metadata": {},
   "outputs": [],
   "source": [
    "training_data = np.array(pd.read_csv('zip.train', sep=' ', header=None))\n",
    "test_data = np.array(pd.read_csv('zip.test', sep =' ',header=None))\n",
    "\n",
    "x_train, y_train = training_data[:,1:-1], training_data[:,0]\n",
    "x_test, y_test = test_data[:,1:], test_data[:,0]"
   ]
  },
  {
   "cell_type": "code",
   "execution_count": 70,
   "metadata": {},
   "outputs": [],
   "source": [
    "def labels_to_one_hot(labels):\n",
    "    onehot_encoded = []\n",
    "    for label in labels:\n",
    "        vector = np.zeros(10)\n",
    "        vector[int(label)] = 1\n",
    "        onehot_encoded.append(vector)\n",
    "    return np.array(onehot_encoded)"
   ]
  },
  {
   "cell_type": "code",
   "execution_count": 87,
   "metadata": {
    "collapsed": true
   },
   "outputs": [],
   "source": [
    "y_train_vec = labels_to_one_hot(y_train)"
   ]
  },
  {
   "cell_type": "code",
   "execution_count": 88,
   "metadata": {
    "collapsed": true
   },
   "outputs": [],
   "source": [
    "def estimate_b(X, y):\n",
    "    invXtX = np.linalg.inv(np.dot(np.transpose(X), X))\n",
    "    return np.dot(np.dot(invXtX, np.transpose(X)), y)"
   ]
  },
  {
   "cell_type": "code",
   "execution_count": 89,
   "metadata": {},
   "outputs": [],
   "source": [
    "b = estimate_b(x_train, y_train_vec)"
   ]
  },
  {
   "cell_type": "code",
   "execution_count": 90,
   "metadata": {
    "collapsed": true
   },
   "outputs": [],
   "source": [
    "y_hat = np.dot(x_test, b)\n",
    "prediction = y_hat.argmax(axis=1)"
   ]
  },
  {
   "cell_type": "code",
   "execution_count": 91,
   "metadata": {},
   "outputs": [
    {
     "name": "stdout",
     "output_type": "stream",
     "text": [
      "0.869955156951\n"
     ]
    }
   ],
   "source": [
    "accuracy = np.mean(y_test == prediction)\n",
    "print(accuracy)"
   ]
  },
  {
   "cell_type": "code",
   "execution_count": 95,
   "metadata": {
    "collapsed": true
   },
   "outputs": [],
   "source": [
    "def confusion_matrix(labels, predictions):\n",
    "    size = len(set(labels))\n",
    "    matrix = np.zeros((size, size))\n",
    "    for correct, predicted in zip(labels.astype(int), predictions):\n",
    "        matrix[correct][predicted] += 1\n",
    "    return matrix"
   ]
  },
  {
   "cell_type": "code",
   "execution_count": 97,
   "metadata": {},
   "outputs": [
    {
     "name": "stdout",
     "output_type": "stream",
     "text": [
      "[[ 347.    2.    0.    1.    3.    1.    4.    0.    0.    1.]\n",
      " [   0.  254.    0.    2.    3.    0.    3.    0.    1.    1.]\n",
      " [   7.    3.  159.    8.   10.    1.    1.    1.    8.    0.]\n",
      " [   5.    0.    4.  137.    2.    9.    0.    2.    3.    4.]\n",
      " [   3.    7.    4.    0.  169.    1.    3.    2.    1.   10.]\n",
      " [   9.    1.    0.   20.    2.  122.    0.    1.    1.    4.]\n",
      " [   3.    2.    4.    0.    5.    4.  151.    0.    1.    0.]\n",
      " [   3.    1.    1.    1.    7.    0.    0.  130.    0.    4.]\n",
      " [   8.    3.    3.   15.    3.    8.    1.    2.  119.    4.]\n",
      " [   0.    3.    0.    0.    7.    0.    0.    7.    2.  158.]]\n"
     ]
    }
   ],
   "source": [
    "print(confusion_matrix(y_test, prediction))"
   ]
  }
 ],
 "metadata": {
  "kernelspec": {
   "display_name": "Python 3",
   "language": "python",
   "name": "python3"
  },
  "language_info": {
   "codemirror_mode": {
    "name": "ipython",
    "version": 3
   },
   "file_extension": ".py",
   "mimetype": "text/x-python",
   "name": "python",
   "nbconvert_exporter": "python",
   "pygments_lexer": "ipython3",
   "version": "3.6.3"
  }
 },
 "nbformat": 4,
 "nbformat_minor": 2
}

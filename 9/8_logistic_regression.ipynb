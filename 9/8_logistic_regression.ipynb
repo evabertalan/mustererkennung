{
 "cells": [
  {
   "cell_type": "code",
   "execution_count": 1,
   "metadata": {
    "collapsed": true
   },
   "outputs": [],
   "source": [
    "import numpy as np\n",
    "import pandas as pd\n",
    "import matplotlib.pyplot as plt\n",
    "%matplotlib inline"
   ]
  },
  {
   "cell_type": "markdown",
   "metadata": {},
   "source": [
    "### Excercise 1. Logistic Regression"
   ]
  },
  {
   "cell_type": "code",
   "execution_count": 2,
   "metadata": {
    "collapsed": true
   },
   "outputs": [],
   "source": [
    "def load_data(file_name):\n",
    "    data = np.array(pd.read_csv(file_name, header=None))\n",
    "    np.random.shuffle(data)\n",
    "    split_index = int(len(data)*0.8)\n",
    "    X_train, y_train = data[0:split_index,0:-1], data[0:split_index,-1]\n",
    "    X_test, y_test = data[split_index:,0:-1], data[split_index:,-1]\n",
    "    return X_train, y_train, X_test, y_test"
   ]
  },
  {
   "cell_type": "code",
   "execution_count": 3,
   "metadata": {},
   "outputs": [],
   "source": [
    "class LogisticRegression:\n",
    "    def __init__(self, num_iter, learning_rate, loss='loss'):\n",
    "        self.num_iter = num_iter\n",
    "        self.lr = learning_rate\n",
    "        self.loss_func = loss\n",
    "        \n",
    "    def __sigmoid(self, x):\n",
    "        return 1 / (1 + np.exp(-x))\n",
    "    \n",
    "    def __loss(self, h, y):\n",
    "        return -np.mean(y*np.log(h) + (1-y)*np.log(1-h))\n",
    "    \n",
    "    def __cross_entropy(self, h, y):\n",
    "        return -(y*np.log(h) + (1-y)*np.log(1-h))\n",
    "    \n",
    "    def __squared_error(self, h, y):\n",
    "        h = (h >= 0.5)\n",
    "        return np.sum((h - y)**2)\n",
    "    \n",
    "    def fit(self, X, y):\n",
    "        self.weights = np.zeros(X.shape[1])\n",
    "        self.accuracy = []\n",
    "        for i in range(self.num_iter):\n",
    "            z = np.dot(X, self.weights)\n",
    "            h = self.__sigmoid(z)\n",
    "            gradient = np.dot(X.T, (h-y)) / len(y)\n",
    "            self.weights = self.weights - self.lr * gradient\n",
    "            \n",
    "            if self.loss_func == 'cross_entropy':\n",
    "                loss = self.__cross_entropy(h, y)\n",
    "            elif self.loss_func == 'squared error':\n",
    "                loss = self.__squared_error(h, y)\n",
    "            else:\n",
    "                loss = self.__loss(h, y)\n",
    "            \n",
    "            self.accuracy.append(1-loss)\n",
    "        return self\n",
    "    \n",
    "    def predict(self, X_test):\n",
    "        return self.__sigmoid(np.dot(X_test, self.weights)) >= 0.5"
   ]
  },
  {
   "cell_type": "code",
   "execution_count": 4,
   "metadata": {},
   "outputs": [],
   "source": [
    "X_train, y_train, X_test, y_test = load_data(file_name='spambase/spambase.data')"
   ]
  },
  {
   "cell_type": "code",
   "execution_count": 5,
   "metadata": {},
   "outputs": [
    {
     "name": "stdout",
     "output_type": "stream",
     "text": [
      "[[4.700e-01 9.400e-01 9.400e-01 ... 5.723e+01 6.360e+02 7.440e+02]\n",
      " [0.000e+00 3.800e-01 3.800e-01 ... 1.843e+00 1.100e+01 1.180e+02]\n",
      " [0.000e+00 0.000e+00 0.000e+00 ... 7.983e+00 7.200e+01 4.950e+02]\n",
      " ...\n",
      " [0.000e+00 0.000e+00 1.230e+00 ... 1.736e+00 1.000e+01 6.600e+01]\n",
      " [0.000e+00 0.000e+00 0.000e+00 ... 1.071e+00 2.000e+00 1.500e+01]\n",
      " [0.000e+00 1.090e+00 0.000e+00 ... 4.941e+00 2.500e+01 8.400e+01]]\n"
     ]
    }
   ],
   "source": [
    "print(X_train)"
   ]
  },
  {
   "cell_type": "code",
   "execution_count": 6,
   "metadata": {
    "collapsed": true
   },
   "outputs": [],
   "source": [
    "log_reg = LogisticRegression(100, 0.01)"
   ]
  },
  {
   "cell_type": "code",
   "execution_count": 7,
   "metadata": {},
   "outputs": [
    {
     "name": "stderr",
     "output_type": "stream",
     "text": [
      "/Users/evabertalan/miniconda3/lib/python3.6/site-packages/ipykernel_launcher.py:11: RuntimeWarning: divide by zero encountered in log\n",
      "  # This is added back by InteractiveShellApp.init_path()\n",
      "/Users/evabertalan/miniconda3/lib/python3.6/site-packages/ipykernel_launcher.py:11: RuntimeWarning: invalid value encountered in multiply\n",
      "  # This is added back by InteractiveShellApp.init_path()\n",
      "/Users/evabertalan/miniconda3/lib/python3.6/site-packages/ipykernel_launcher.py:8: RuntimeWarning: overflow encountered in exp\n",
      "  \n"
     ]
    },
    {
     "data": {
      "text/plain": [
       "<__main__.LogisticRegression at 0x1066f7ba8>"
      ]
     },
     "execution_count": 7,
     "metadata": {},
     "output_type": "execute_result"
    }
   ],
   "source": [
    "log_reg.fit(X_train, y_train)"
   ]
  },
  {
   "cell_type": "code",
   "execution_count": 8,
   "metadata": {},
   "outputs": [],
   "source": [
    "prediction = log_reg.predict(X_test)"
   ]
  },
  {
   "cell_type": "code",
   "execution_count": 9,
   "metadata": {},
   "outputs": [
    {
     "name": "stdout",
     "output_type": "stream",
     "text": [
      "0.10857763300760044\n"
     ]
    }
   ],
   "source": [
    "accuracy = len(np.where(prediction == y_test))/len(y_test) * 100\n",
    "print(accuracy)"
   ]
  }
 ],
 "metadata": {
  "kernelspec": {
   "display_name": "Python 3",
   "language": "python",
   "name": "python3"
  },
  "language_info": {
   "codemirror_mode": {
    "name": "ipython",
    "version": 3
   },
   "file_extension": ".py",
   "mimetype": "text/x-python",
   "name": "python",
   "nbconvert_exporter": "python",
   "pygments_lexer": "ipython3",
   "version": "3.6.3"
  },
  "latex_envs": {
   "LaTeX_envs_menu_present": true,
   "autoclose": false,
   "autocomplete": true,
   "bibliofile": "biblio.bib",
   "cite_by": "apalike",
   "current_citInitial": 1,
   "eqLabelWithNumbers": true,
   "eqNumInitial": 1,
   "hotkeys": {
    "equation": "Ctrl-E",
    "itemize": "Ctrl-I"
   },
   "labels_anchors": false,
   "latex_user_defs": false,
   "report_style_numbering": false,
   "user_envs_cfg": false
  }
 },
 "nbformat": 4,
 "nbformat_minor": 2
}

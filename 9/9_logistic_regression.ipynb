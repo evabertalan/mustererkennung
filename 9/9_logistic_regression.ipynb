{
 "cells": [
  {
   "cell_type": "code",
   "execution_count": 2,
   "metadata": {
    "collapsed": true
   },
   "outputs": [],
   "source": [
    "import numpy as np\n",
    "import pandas as pd\n",
    "import matplotlib.pyplot as plt\n",
    "%matplotlib inline"
   ]
  },
  {
   "cell_type": "markdown",
   "metadata": {},
   "source": [
    "### Excercise 1. Logistic Regression"
   ]
  },
  {
   "cell_type": "code",
   "execution_count": 3,
   "metadata": {
    "collapsed": true
   },
   "outputs": [],
   "source": [
    "def load_data(file_name):\n",
    "    data = np.array(pd.read_csv(file_name, header=None))\n",
    "    np.random.shuffle(data)\n",
    "    split_index = int(len(data)*0.8)\n",
    "    X_train, y_train = data[0:split_index,0:-1], data[0:split_index,-1]\n",
    "    X_test, y_test = data[split_index:,0:-1], data[split_index:,-1]\n",
    "    return X_train, y_train, X_test, y_test"
   ]
  },
  {
   "cell_type": "code",
   "execution_count": 4,
   "metadata": {
    "collapsed": true
   },
   "outputs": [],
   "source": [
    "class LogisticRegression:\n",
    "    def __init__(self, num_iter, learning_rate, loss='cross_entropy'):\n",
    "        self.num_iter = num_iter\n",
    "        self.lr = learning_rate\n",
    "        self.loss_func = loss\n",
    "        \n",
    "    def __sigmoid(self, x):\n",
    "        return 1 / (1 + np.exp(-x))\n",
    "    \n",
    "    def __cross_entropy(self, h, y):\n",
    "        return -np.mean(y*np.log(h) + (1-y)*np.log(1-h))    \n",
    "    \n",
    "    def __squared_error(self, h, y):\n",
    "        h = (h >= 0.5)\n",
    "        return np.sum((h - y)**2)\n",
    "    \n",
    "    def fit(self, X, y):\n",
    "        self.weights = np.zeros(X.shape[1])\n",
    "        self.loss = []\n",
    "        for i in range(self.num_iter):\n",
    "            z = np.dot(X, self.weights)\n",
    "            h = self.__sigmoid(z)\n",
    "            gradient = np.dot(X.T, (h-y)) / len(y)\n",
    "            self.weights = self.weights - self.lr * gradient\n",
    "            \n",
    "            if self.loss_func == 'cross_entropy':\n",
    "                loss = self.__cross_entropy(h, y)\n",
    "            elif self.loss_func == 'squared error':\n",
    "                loss = self.__squared_error(h, y)\n",
    "                \n",
    "            self.loss.append(loss)\n",
    "        return self\n",
    "    \n",
    "    def predict(self, X_test):\n",
    "        return self.__sigmoid(np.dot(X_test, self.weights)) >= 0.5"
   ]
  },
  {
   "cell_type": "code",
   "execution_count": 5,
   "metadata": {
    "collapsed": true
   },
   "outputs": [],
   "source": [
    "X_train, y_train, X_test, y_test = load_data(file_name='spambase/spambase.data')"
   ]
  },
  {
   "cell_type": "markdown",
   "metadata": {},
   "source": [
    "Log transform the data, to avoid 0 in the log expressions:"
   ]
  },
  {
   "cell_type": "code",
   "execution_count": 6,
   "metadata": {
    "collapsed": true
   },
   "outputs": [],
   "source": [
    "from sklearn.preprocessing import FunctionTransformer\n",
    "transformer = FunctionTransformer(np.log1p, validate=True)\n",
    "X_train = transformer.transform(X_train)\n",
    "X_test = transformer.transform(X_test)"
   ]
  },
  {
   "cell_type": "code",
   "execution_count": 7,
   "metadata": {},
   "outputs": [
    {
     "name": "stdout",
     "output_type": "stream",
     "text": [
      "Accuracy: 91.20521172638436\n"
     ]
    },
    {
     "data": {
      "image/png": "[encoded data removed]",
      "text/plain": [
       "<matplotlib.figure.Figure at 0x113011e48>"
      ]
     },
     "metadata": {},
     "output_type": "display_data"
    }
   ],
   "source": [
    "log_reg = LogisticRegression(10000, 0.01)\n",
    "reg_fit = log_reg.fit(X_train, y_train)\n",
    "plt.plot(reg_fit.loss)\n",
    "plt.xlabel('iteration')\n",
    "plt.ylabel('loss')\n",
    "prediction = log_reg.predict(X_test)\n",
    "accuracy = len(np.where(prediction == y_test)[0])/len(y_test)*100\n",
    "print('Accuracy:', accuracy)"
   ]
  },
  {
   "cell_type": "markdown",
   "metadata": {},
   "source": [
    "### a)  Loss function: squared error"
   ]
  },
  {
   "cell_type": "code",
   "execution_count": 8,
   "metadata": {},
   "outputs": [
    {
     "name": "stdout",
     "output_type": "stream",
     "text": [
      "Accuracy: 91.20521172638436\n"
     ]
    },
    {
     "data": {
      "image/png": "[encoded data removed]",
      "text/plain": [
       "<matplotlib.figure.Figure at 0x115ab3160>"
      ]
     },
     "metadata": {},
     "output_type": "display_data"
    }
   ],
   "source": [
    "log_reg_sqr = LogisticRegression(10000, 0.01, loss='squared error')\n",
    "reg_fit_sqr = log_reg_sqr.fit(X_train, y_train)\n",
    "plt.plot(reg_fit_sqr.loss)\n",
    "plt.xlabel('iteration')\n",
    "plt.ylabel('loss')\n",
    "prediction = log_reg.predict(X_test)\n",
    "accuracy = len(np.where(prediction == y_test)[0])/len(y_test)*100\n",
    "print('Accuracy:', accuracy)"
   ]
  },
  {
   "cell_type": "markdown",
   "metadata": {},
   "source": [
    "The Squared Error is a good measurement of error in case of a linear model (e.g linear regression), logistic regression is a classification problem, with non-linear sigmoid function.\n",
    "The graph of the cross entropy has a smooth decay, while the squared error just drops down."
   ]
  },
  {
   "cell_type": "markdown",
   "metadata": {},
   "source": [
    "### b) Modify activation function to label set {-1, 1}:\n",
    "Using the tanh activation function, which has the range(-1,1)"
   ]
  },
  {
   "cell_type": "code",
   "execution_count": 17,
   "metadata": {},
   "outputs": [
    {
     "data": {
      "text/plain": [
       "[<matplotlib.lines.Line2D at 0x1198144a8>]"
      ]
     },
     "execution_count": 17,
     "metadata": {},
     "output_type": "execute_result"
    },
    {
     "data": {
      "image/png": "[encoded data removed]",
      "text/plain": [
       "<matplotlib.figure.Figure at 0x121233fd0>"
      ]
     },
     "metadata": {},
     "output_type": "display_data"
    }
   ],
   "source": [
    "x = np.linspace(-10, 10)\n",
    "sigm = 1 / (1 + np.exp(-x))\n",
    "plt.axhline(0, color='black', lw=1)\n",
    "plt.axvline(0, color='black', lw=1)\n",
    "plt.plot(x, sigm)"
   ]
  },
  {
   "cell_type": "code",
   "execution_count": 18,
   "metadata": {},
   "outputs": [
    {
     "data": {
      "text/plain": [
       "[<matplotlib.lines.Line2D at 0x11812e8d0>]"
      ]
     },
     "execution_count": 18,
     "metadata": {},
     "output_type": "execute_result"
    },
    {
     "data": {
      "image/png": "[encoded data removed]",
      "text/plain": [
       "<matplotlib.figure.Figure at 0x119717630>"
      ]
     },
     "metadata": {},
     "output_type": "display_data"
    }
   ],
   "source": [
    "x = np.linspace(-10, 10)\n",
    "plt.axhline(0, color='black', lw=1)\n",
    "plt.axvline(0, color='black', lw=1)\n",
    "plt.plot(x, np.tanh(x))"
   ]
  },
  {
   "cell_type": "code",
   "execution_count": null,
   "metadata": {
    "collapsed": true
   },
   "outputs": [],
   "source": []
  }
 ],
 "metadata": {
  "kernelspec": {
   "display_name": "Python 3",
   "language": "python",
   "name": "python3"
  },
  "language_info": {
   "codemirror_mode": {
    "name": "ipython",
    "version": 3
   },
   "file_extension": ".py",
   "mimetype": "text/x-python",
   "name": "python",
   "nbconvert_exporter": "python",
   "pygments_lexer": "ipython3",
   "version": "3.6.3"
  },
  "latex_envs": {
   "LaTeX_envs_menu_present": true,
   "autoclose": false,
   "autocomplete": true,
   "bibliofile": "biblio.bib",
   "cite_by": "apalike",
   "current_citInitial": 1,
   "eqLabelWithNumbers": true,
   "eqNumInitial": 1,
   "hotkeys": {
    "equation": "Ctrl-E",
    "itemize": "Ctrl-I"
   },
   "labels_anchors": false,
   "latex_user_defs": false,
   "report_style_numbering": false,
   "user_envs_cfg": false
  }
 },
 "nbformat": 4,
 "nbformat_minor": 2
}

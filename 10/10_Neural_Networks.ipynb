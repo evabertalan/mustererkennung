{
 "cells": [
  {
   "cell_type": "markdown",
   "metadata": {},
   "source": [
    "# Solution 08\n",
    "Machine Learning WiSe 18/19"
   ]
  },
  {
   "cell_type": "markdown",
   "metadata": {},
   "source": [
    "Martin Dreher, Adriana Pinto, Eva Bertalan"
   ]
  },
  {
   "cell_type": "code",
   "execution_count": 1,
   "metadata": {
    "collapsed": true
   },
   "outputs": [],
   "source": [
    "import numpy as np\n",
    "import matplotlib.pyplot as plt\n",
    "import pandas as pd\n",
    "%matplotlib inline"
   ]
  },
  {
   "cell_type": "markdown",
   "metadata": {},
   "source": [
    "### Excercise 1. Neural Network"
   ]
  },
  {
   "cell_type": "code",
   "execution_count": 2,
   "metadata": {
    "collapsed": true
   },
   "outputs": [],
   "source": [
    "training_data = np.array(pd.read_csv('zip.train', sep=' ', header=None))\n",
    "test_data = np.array(pd.read_csv('zip.test', sep =' ',header=None))\n",
    "\n",
    "x_train, y_train = training_data[:,1:-1], training_data[:,0]\n",
    "x_test, y_test = test_data[:,1:], test_data[:,0]"
   ]
  },
  {
   "cell_type": "code",
   "execution_count": 3,
   "metadata": {
    "collapsed": true
   },
   "outputs": [],
   "source": [
    "def labels_to_one_hot(labels):\n",
    "    onehot_encoded = []\n",
    "    for label in labels:\n",
    "        vector = np.zeros(10)\n",
    "        vector[int(label)] = 1\n",
    "        onehot_encoded.append(vector)\n",
    "    return np.array(onehot_encoded)"
   ]
  },
  {
   "cell_type": "code",
   "execution_count": 4,
   "metadata": {
    "collapsed": true
   },
   "outputs": [],
   "source": [
    "y_vec = labels_to_one_hot(y_train)"
   ]
  },
  {
   "cell_type": "code",
   "execution_count": 18,
   "metadata": {
    "collapsed": true
   },
   "outputs": [],
   "source": [
    "class NeuralNetwork:\n",
    "    def __init__(self, dimensions, learning_rate=0.1):\n",
    "        self.num_layers = len(dimensions)\n",
    "        self.lr = learning_rate\n",
    "                \n",
    "        self.b = [np.random.randn(y, 1) for y in dimensions[1:]]\n",
    "        self.w = [np.random.randn(y, x) for x, y in zip(dimensions[:-1], dimensions[1:])]        \n",
    "        self.dw = [np.zeros(w.shape) for w in self.w]\n",
    "        self.db = [np.zeros(b.shape) for b in self.b]\n",
    "        self.loss = []\n",
    "        self.zs = []\n",
    "        self.activations = []\n",
    "        \n",
    "    def __sigmoid(self, s):\n",
    "        return 1 / (1 + np.exp(-s))\n",
    "    \n",
    "    def __sigmoid_deriv(self, s):\n",
    "        return self.__sigmoid(s) * (1 - self.__sigmoid(s))\n",
    "    \n",
    "    def __feedforward(self, x):\n",
    "        for b, w in zip(self.b, self.w):\n",
    "            z = np.dot(w, x.T) + b\n",
    "            self.zs.append(z)\n",
    "            activation = self.__sigmoid(z)\n",
    "            self.activations.append(activation)\n",
    "        return activation\n",
    "    \n",
    "    def __backprop(self, y):\n",
    "        delta = (self.activations[-1] - y) * self.__sigmoid_deriv(zs[-1])\n",
    "        \n",
    "        self.db[-1] = delta\n",
    "        self.dw[-1] = np.dot(delta, activations[-2].T)\n",
    "\n",
    "        for i in range(2, self.num_layers):\n",
    "            z = self.zs[-i]\n",
    "            delta = np.dot(self.w[-i+1].T, delta) * self.__sigmoid_deriv(z)\n",
    "            self.db[-i] = delta\n",
    "            self.dw[-i] = np.dot(delta, activations[-i-1].T)\n",
    "            \n",
    "    def train(self, x, y, epochs):\n",
    "        for i in range(epochs):\n",
    "            output = self.__feedforward(x)\n",
    "            self.__backprop(y)\n",
    "            \n",
    "            self.w -= self.lr * self.dw\n",
    "            self.b -= self.lr * self.db\n",
    "        \n",
    "        result = np.argmax(output)\n",
    "        loss = sum(int(i == y) for i in result)\n",
    "        plt.plot(self.loss)\n",
    "        \n",
    "    def predict(self):\n",
    "        pass"
   ]
  },
  {
   "cell_type": "code",
   "execution_count": 21,
   "metadata": {},
   "outputs": [],
   "source": [
    "nn = NeuralNetwork([256, 256, 10, 10])"
   ]
  },
  {
   "cell_type": "code",
   "execution_count": 22,
   "metadata": {},
   "outputs": [
    {
     "ename": "ValueError",
     "evalue": "shapes (10,10) and (256,7291) not aligned: 10 (dim 1) != 256 (dim 0)",
     "output_type": "error",
     "traceback": [
      "\u001b[0;31m---------------------------------------------------------------------------\u001b[0m",
      "\u001b[0;31mValueError\u001b[0m                                Traceback (most recent call last)",
      "\u001b[0;32m<ipython-input-22-379da3e263fd>\u001b[0m in \u001b[0;36m<module>\u001b[0;34m()\u001b[0m\n\u001b[0;32m----> 1\u001b[0;31m \u001b[0mnn\u001b[0m\u001b[0;34m.\u001b[0m\u001b[0mtrain\u001b[0m\u001b[0;34m(\u001b[0m\u001b[0mx_train\u001b[0m\u001b[0;34m,\u001b[0m \u001b[0my_vec\u001b[0m\u001b[0;34m,\u001b[0m \u001b[0;36m10\u001b[0m\u001b[0;34m)\u001b[0m\u001b[0;34m\u001b[0m\u001b[0m\n\u001b[0m",
      "\u001b[0;32m<ipython-input-18-b5ac49013cb8>\u001b[0m in \u001b[0;36mtrain\u001b[0;34m(self, x, y, epochs)\u001b[0m\n\u001b[1;32m     40\u001b[0m     \u001b[0;32mdef\u001b[0m \u001b[0mtrain\u001b[0m\u001b[0;34m(\u001b[0m\u001b[0mself\u001b[0m\u001b[0;34m,\u001b[0m \u001b[0mx\u001b[0m\u001b[0;34m,\u001b[0m \u001b[0my\u001b[0m\u001b[0;34m,\u001b[0m \u001b[0mepochs\u001b[0m\u001b[0;34m)\u001b[0m\u001b[0;34m:\u001b[0m\u001b[0;34m\u001b[0m\u001b[0m\n\u001b[1;32m     41\u001b[0m         \u001b[0;32mfor\u001b[0m \u001b[0mi\u001b[0m \u001b[0;32min\u001b[0m \u001b[0mrange\u001b[0m\u001b[0;34m(\u001b[0m\u001b[0mepochs\u001b[0m\u001b[0;34m)\u001b[0m\u001b[0;34m:\u001b[0m\u001b[0;34m\u001b[0m\u001b[0m\n\u001b[0;32m---> 42\u001b[0;31m             \u001b[0moutput\u001b[0m \u001b[0;34m=\u001b[0m \u001b[0mself\u001b[0m\u001b[0;34m.\u001b[0m\u001b[0m__feedforward\u001b[0m\u001b[0;34m(\u001b[0m\u001b[0mx\u001b[0m\u001b[0;34m)\u001b[0m\u001b[0;34m\u001b[0m\u001b[0m\n\u001b[0m\u001b[1;32m     43\u001b[0m             \u001b[0mself\u001b[0m\u001b[0;34m.\u001b[0m\u001b[0m__backprop\u001b[0m\u001b[0;34m(\u001b[0m\u001b[0my\u001b[0m\u001b[0;34m)\u001b[0m\u001b[0;34m\u001b[0m\u001b[0m\n\u001b[1;32m     44\u001b[0m \u001b[0;34m\u001b[0m\u001b[0m\n",
      "\u001b[0;32m<ipython-input-18-b5ac49013cb8>\u001b[0m in \u001b[0;36m__feedforward\u001b[0;34m(self, x)\u001b[0m\n\u001b[1;32m     20\u001b[0m     \u001b[0;32mdef\u001b[0m \u001b[0m__feedforward\u001b[0m\u001b[0;34m(\u001b[0m\u001b[0mself\u001b[0m\u001b[0;34m,\u001b[0m \u001b[0mx\u001b[0m\u001b[0;34m)\u001b[0m\u001b[0;34m:\u001b[0m\u001b[0;34m\u001b[0m\u001b[0m\n\u001b[1;32m     21\u001b[0m         \u001b[0;32mfor\u001b[0m \u001b[0mb\u001b[0m\u001b[0;34m,\u001b[0m \u001b[0mw\u001b[0m \u001b[0;32min\u001b[0m \u001b[0mzip\u001b[0m\u001b[0;34m(\u001b[0m\u001b[0mself\u001b[0m\u001b[0;34m.\u001b[0m\u001b[0mb\u001b[0m\u001b[0;34m,\u001b[0m \u001b[0mself\u001b[0m\u001b[0;34m.\u001b[0m\u001b[0mw\u001b[0m\u001b[0;34m)\u001b[0m\u001b[0;34m:\u001b[0m\u001b[0;34m\u001b[0m\u001b[0m\n\u001b[0;32m---> 22\u001b[0;31m             \u001b[0mz\u001b[0m \u001b[0;34m=\u001b[0m \u001b[0mnp\u001b[0m\u001b[0;34m.\u001b[0m\u001b[0mdot\u001b[0m\u001b[0;34m(\u001b[0m\u001b[0mw\u001b[0m\u001b[0;34m,\u001b[0m \u001b[0mx\u001b[0m\u001b[0;34m.\u001b[0m\u001b[0mT\u001b[0m\u001b[0;34m)\u001b[0m \u001b[0;34m+\u001b[0m \u001b[0mb\u001b[0m\u001b[0;34m\u001b[0m\u001b[0m\n\u001b[0m\u001b[1;32m     23\u001b[0m             \u001b[0mself\u001b[0m\u001b[0;34m.\u001b[0m\u001b[0mzs\u001b[0m\u001b[0;34m.\u001b[0m\u001b[0mappend\u001b[0m\u001b[0;34m(\u001b[0m\u001b[0mz\u001b[0m\u001b[0;34m)\u001b[0m\u001b[0;34m\u001b[0m\u001b[0m\n\u001b[1;32m     24\u001b[0m             \u001b[0mactivation\u001b[0m \u001b[0;34m=\u001b[0m \u001b[0mself\u001b[0m\u001b[0;34m.\u001b[0m\u001b[0m__sigmoid\u001b[0m\u001b[0;34m(\u001b[0m\u001b[0mz\u001b[0m\u001b[0;34m)\u001b[0m\u001b[0;34m\u001b[0m\u001b[0m\n",
      "\u001b[0;31mValueError\u001b[0m: shapes (10,10) and (256,7291) not aligned: 10 (dim 1) != 256 (dim 0)"
     ]
    }
   ],
   "source": [
    "nn.train(x_train, y_vec, 10)"
   ]
  },
  {
   "cell_type": "markdown",
   "metadata": {},
   "source": [
    "For this implentation we followed this code: https://github.com/mnielsen/neural-networks-and-deep-learning/blob/master/src/network.py\n",
    "But there were always dimensionality errors.\n",
    "The other implementation is a simple one with only one hidden layer, but in this case something went also wrong, the loss graph doesn't look how it should, and also an error occured while predictiong the test values."
   ]
  },
  {
   "cell_type": "code",
   "execution_count": 27,
   "metadata": {
    "collapsed": true
   },
   "outputs": [],
   "source": [
    "class NeuralNetwork:\n",
    "    def __init__(self, x, y, n_hidden, learning_rate=0.1):\n",
    "        self.x = x\n",
    "        self.y = y\n",
    "        self.n_input = x.shape[1]\n",
    "        self.n_hidden = n_hidden\n",
    "        self.n_output = y.shape[1]\n",
    "        self.lr = learning_rate\n",
    "        self.__initialize_weights()\n",
    "        self.loss = []\n",
    "        \n",
    "    def __initialize_weights(self):\n",
    "        self.w1 = np.random.rand(self.n_input, self.n_hidden)\n",
    "        self.b1 = np.zeros((1, self.n_hidden))\n",
    "        \n",
    "        self.w2 =  np.random.rand(self.n_hidden, self.n_output) \n",
    "        self.b2 = np.zeros((1, self.n_output))\n",
    "        \n",
    "    def __sigmoid(self, s):\n",
    "        s = s + 10**-10\n",
    "        return 1 / (1 + np.exp(-s))\n",
    "    \n",
    "    def __sigmoid_deriv(self, s):\n",
    "        return self.__sigmoid(s) * (1 - self.__sigmoid(s))\n",
    "    \n",
    "    def __feedforward(self, x):\n",
    "        self.a1 = self.__sigmoid(np.dot(x, self.w1)) + self.b1\n",
    "        self.a2 = self.__sigmoid(np.dot(self.a1, self.w2)) + self.b2 \n",
    "        return self.a2\n",
    "    \n",
    "    def __backprop(self, output):\n",
    "        delta = self.y - output\n",
    "        d_w2 = np.dot(self.a1.T, (delta * self.__sigmoid_deriv(output)))\n",
    "        d_w1 = np.dot(self.x.T, (np.dot(delta * self.__sigmoid_deriv(output), self.w2.T) * self.__sigmoid_deriv(self.a1)))\n",
    "\n",
    "        self.w1 += self.lr * d_w1\n",
    "        self.w2 += self.lr * d_w2\n",
    "    \n",
    "    def train(self, epochs):\n",
    "        for i in range(epochs):\n",
    "            output = self.__feedforward(self.x)\n",
    "            error = np.mean((output - self.y)** 2)\n",
    "            self.loss.append(error)\n",
    "            print('loss:', error)\n",
    "            \n",
    "            self.__backprop(output)\n",
    "        \n",
    "        plt.plot(self.loss)\n",
    "        \n",
    "    \n",
    "    def predict(self, X):\n",
    "        return np.argmax(self.__feedforward(X))"
   ]
  },
  {
   "cell_type": "code",
   "execution_count": 28,
   "metadata": {
    "collapsed": true
   },
   "outputs": [],
   "source": [
    "neural_net = NeuralNetwork(x_train, y_vec, 10)"
   ]
  },
  {
   "cell_type": "code",
   "execution_count": 29,
   "metadata": {},
   "outputs": [
    {
     "name": "stdout",
     "output_type": "stream",
     "text": [
      "loss: 0.25745050062765584\n",
      "loss: 0.24997772700567675\n",
      "loss: 0.1474212880780532\n",
      "loss: 0.832752708819092\n",
      "loss: 0.1603841707637277\n",
      "loss: 0.1\n",
      "loss: 0.10008229323824991\n",
      "loss: 0.25000000002\n",
      "loss: 0.1\n",
      "loss: 0.09065971722115451\n",
      "loss: 0.16168856880983531\n",
      "loss: 0.1414205453555733\n",
      "loss: 0.18754768127390203\n",
      "loss: 0.16723357564041427\n"
     ]
    },
    {
     "name": "stderr",
     "output_type": "stream",
     "text": [
      "/Users/evabertalan/miniconda3/lib/python3.6/site-packages/ipykernel_launcher.py:21: RuntimeWarning: overflow encountered in exp\n"
     ]
    },
    {
     "name": "stdout",
     "output_type": "stream",
     "text": [
      "loss: 0.20786799297156328\n",
      "loss: 0.2550786970876038\n",
      "loss: 0.11184097560987441\n",
      "loss: 0.25354448679226993\n",
      "loss: 0.3214005699860011\n",
      "loss: 0.10037031957188158\n",
      "loss: 0.1238924701477636\n",
      "loss: 0.18751470655009253\n",
      "loss: 0.12550302306728975\n",
      "loss: 0.31319958992668223\n",
      "loss: 0.2121319598288326\n",
      "loss: 0.0999999706533563\n",
      "loss: 0.2425028230474497\n",
      "loss: 0.11261829652899903\n",
      "loss: 0.2589798398310395\n",
      "loss: 0.23541416669245155\n",
      "loss: 0.11905084716747397\n",
      "loss: 0.2906170108207879\n",
      "loss: 0.20841183572105287\n",
      "loss: 0.10142084111684507\n",
      "loss: 0.1434915259472171\n",
      "loss: 0.10999730893429085\n",
      "loss: 0.1467624329977302\n",
      "loss: 0.19285304416580576\n",
      "loss: 0.09738974548981408\n",
      "loss: 0.25857403173783333\n",
      "loss: 0.16886850639811277\n",
      "loss: 0.1638226010657835\n",
      "loss: 0.13289230533693416\n",
      "loss: 0.08767760249406133\n",
      "loss: 0.3158977635300734\n",
      "loss: 0.10306888874589677\n",
      "loss: 0.20624731024964055\n",
      "loss: 0.08630410777283214\n",
      "loss: 0.24398783540946312\n",
      "loss: 0.07657217249931443\n",
      "loss: 0.24061993302964185\n",
      "loss: 0.10132018506786959\n",
      "loss: 0.13695536526738805\n",
      "loss: 0.14121430080200884\n",
      "loss: 0.09217298967634738\n",
      "loss: 0.2682372926576742\n",
      "loss: 0.08420664070282632\n",
      "loss: 0.16773996215109652\n",
      "loss: 0.0894260574583049\n",
      "loss: 0.22506648814857871\n",
      "loss: 0.07766645222809526\n",
      "loss: 0.12830757598364637\n",
      "loss: 0.09490564361971277\n",
      "loss: 0.12266713461269059\n",
      "loss: 0.09745992601169128\n",
      "loss: 0.17505936760546642\n",
      "loss: 0.10086719440537228\n",
      "loss: 0.14279085600827335\n",
      "loss: 0.14209692424320403\n",
      "loss: 0.09779400692909243\n",
      "loss: 0.08454405560022497\n",
      "loss: 0.12634381664041766\n",
      "loss: 0.1097147384962365\n",
      "loss: 0.08437650765137224\n",
      "loss: 0.1626183974757496\n",
      "loss: 0.10151444127476776\n",
      "loss: 0.14576067914165597\n",
      "loss: 0.10644240183553438\n",
      "loss: 0.0859887458320944\n",
      "loss: 0.20666874247887446\n",
      "loss: 0.08772702703382113\n",
      "loss: 0.20524454329452488\n",
      "loss: 0.09639782404756041\n",
      "loss: 0.1532685437688233\n",
      "loss: 0.08779498232092431\n",
      "loss: 0.12278510490196444\n",
      "loss: 0.0941520087201348\n",
      "loss: 0.14647860124900275\n",
      "loss: 0.07112807642794892\n",
      "loss: 0.21163578648041118\n",
      "loss: 0.07498661690501814\n",
      "loss: 0.14410697897292557\n",
      "loss: 0.09001911573336097\n",
      "loss: 0.12069454739716408\n",
      "loss: 0.075338860632262\n",
      "loss: 0.12538514061933803\n",
      "loss: 0.08165195535144652\n",
      "loss: 0.17849886673532217\n",
      "loss: 0.08112218888447283\n",
      "loss: 0.08316962451484515\n"
     ]
    },
    {
     "data": {
      "image/png": "[encoded data removed]",
      "text/plain": [
       "<matplotlib.figure.Figure at 0x108a44be0>"
      ]
     },
     "metadata": {},
     "output_type": "display_data"
    }
   ],
   "source": [
    "neural_net.train(100)"
   ]
  },
  {
   "cell_type": "code",
   "execution_count": 30,
   "metadata": {},
   "outputs": [
    {
     "name": "stderr",
     "output_type": "stream",
     "text": [
      "/Users/evabertalan/miniconda3/lib/python3.6/site-packages/ipykernel_launcher.py:21: RuntimeWarning: overflow encountered in exp\n"
     ]
    }
   ],
   "source": [
    "output = neural_net.predict(x_test)"
   ]
  }
 ],
 "metadata": {
  "kernelspec": {
   "display_name": "Python 3",
   "language": "python",
   "name": "python3"
  },
  "language_info": {
   "codemirror_mode": {
    "name": "ipython",
    "version": 3
   },
   "file_extension": ".py",
   "mimetype": "text/x-python",
   "name": "python",
   "nbconvert_exporter": "python",
   "pygments_lexer": "ipython3",
   "version": "3.6.3"
  },
  "latex_envs": {
   "LaTeX_envs_menu_present": true,
   "autoclose": false,
   "autocomplete": true,
   "bibliofile": "biblio.bib",
   "cite_by": "apalike",
   "current_citInitial": 1,
   "eqLabelWithNumbers": true,
   "eqNumInitial": 1,
   "hotkeys": {
    "equation": "Ctrl-E",
    "itemize": "Ctrl-I"
   },
   "labels_anchors": false,
   "latex_user_defs": false,
   "report_style_numbering": false,
   "user_envs_cfg": false
  }
 },
 "nbformat": 4,
 "nbformat_minor": 2
}

{
 "cells": [
  {
   "cell_type": "code",
   "execution_count": 1,
   "metadata": {
    "collapsed": true
   },
   "outputs": [],
   "source": [
    "import numpy as np\n",
    "import matplotlib.pyplot as plt\n",
    "import pandas as pd\n",
    "%matplotlib inline"
   ]
  },
  {
   "cell_type": "markdown",
   "metadata": {},
   "source": [
    "### Excercise 1. Neural Network"
   ]
  },
  {
   "cell_type": "code",
   "execution_count": 2,
   "metadata": {
    "collapsed": true
   },
   "outputs": [],
   "source": [
    "training_data = np.array(pd.read_csv('zip.train', sep=' ', header=None))\n",
    "test_data = np.array(pd.read_csv('zip.test', sep =' ',header=None))\n",
    "\n",
    "x_train, y_train = training_data[:,1:-1], training_data[:,0]\n",
    "x_test, y_test = test_data[:,1:], test_data[:,0]"
   ]
  },
  {
   "cell_type": "code",
   "execution_count": 3,
   "metadata": {
    "collapsed": true
   },
   "outputs": [],
   "source": [
    "def labels_to_one_hot(labels):\n",
    "    onehot_encoded = []\n",
    "    for label in labels:\n",
    "        vector = np.zeros(10)\n",
    "        vector[int(label)] = 1\n",
    "        onehot_encoded.append(vector)\n",
    "    return np.array(onehot_encoded)"
   ]
  },
  {
   "cell_type": "code",
   "execution_count": 4,
   "metadata": {},
   "outputs": [],
   "source": [
    "y_vec = labels_to_one_hot(y_train)"
   ]
  },
  {
   "cell_type": "code",
   "execution_count": 72,
   "metadata": {
    "collapsed": true
   },
   "outputs": [],
   "source": [
    "class NeuralNetwork:\n",
    "    def __init__(self, x, y, n_hidden, learning_rate=0.1):\n",
    "        self.x = x\n",
    "        self.y = y\n",
    "        self.n_input = x.shape[1]\n",
    "        self.n_hidden = n_hidden\n",
    "        self.n_output = y.shape[1]\n",
    "        self.lr = learning_rate\n",
    "        self.__initialize_weights()\n",
    "        self.loss = []\n",
    "        \n",
    "    def __initialize_weights(self):\n",
    "        self.w1 = np.random.rand(self.n_input, self.n_hidden)\n",
    "        self.b1 = np.zeros((1, self.n_hidden))\n",
    "        \n",
    "        self.w2 =  np.random.rand(self.n_hidden, self.n_output) \n",
    "        self.b2 = np.zeros((1, self.n_output))\n",
    "        \n",
    "    def __sigmoid(self, s):\n",
    "        return 1 / (1 + np.exp(-s))\n",
    "    \n",
    "    def __sigmoid_deriv(self, s):\n",
    "        return self.__sigmoid(s) * (1 - self.__sigmoid(s))\n",
    "    \n",
    "    def __feedforward(self):\n",
    "        self.a1 = self.__sigmoid(np.dot(self.x, self.w1)) + self.b1\n",
    "        self.a2 = self.__sigmoid(np.dot(self.a1, self.w2)) + self.b2 \n",
    "        return self.a2\n",
    "    \n",
    "    def __backprop(self, output):\n",
    "        error = np.mean((output - self.y)** 2)\n",
    "        self.loss.append(error)\n",
    "        print('loss:', error)\n",
    "        \n",
    "        d_w2 = np.dot(self.a1.T, (2*(self.y - output) * self.__sigmoid_deriv(output)))\n",
    "        d_w1 = np.dot(self.x.T, (np.dot(2*(self.y - output) * self.__sigmoid_deriv(output), self.w2.T) * self.__sigmoid_deriv(self.a1)))\n",
    "\n",
    "        self.w1 += d_w1\n",
    "        self.w2 += d_w2\n",
    "    \n",
    "    def train(self, epochs):\n",
    "        for i in range(epochs):\n",
    "            output = self.__feedforward()\n",
    "            self.__backprop(output)\n",
    "        \n",
    "        plt.plot(self.loss)\n",
    "        \n",
    "    \n",
    "    def predict(self):\n",
    "        pass"
   ]
  },
  {
   "cell_type": "code",
   "execution_count": 73,
   "metadata": {},
   "outputs": [],
   "source": [
    "neural_net = NeuralNetwork(x_train, y_vec, 10)"
   ]
  },
  {
   "cell_type": "code",
   "execution_count": 74,
   "metadata": {},
   "outputs": [
    {
     "name": "stdout",
     "output_type": "stream",
     "text": [
      "loss: 0.2586123097119559\n",
      "loss: 0.24995702698113265\n",
      "loss: 0.09999999999980691\n",
      "loss: 0.9\n",
      "loss: 0.25\n",
      "loss: 0.1\n",
      "loss: 0.1\n",
      "loss: 0.1\n",
      "loss: 0.1\n",
      "loss: 0.2396790563708682\n",
      "loss: 0.1\n",
      "loss: 0.2247359758606501\n",
      "loss: 0.1\n",
      "loss: 0.2617336442189\n",
      "loss: 0.4959539157865862\n"
     ]
    },
    {
     "name": "stderr",
     "output_type": "stream",
     "text": [
      "/Users/evabertalan/miniconda3/lib/python3.6/site-packages/ipykernel_launcher.py:20: RuntimeWarning: overflow encountered in exp\n"
     ]
    },
    {
     "name": "stdout",
     "output_type": "stream",
     "text": [
      "loss: 0.2501577287066246\n",
      "loss: 0.2698806748045536\n",
      "loss: 0.17243176518996023\n",
      "loss: 0.10002057330955973\n",
      "loss: 0.1\n",
      "loss: 0.16724729118090798\n",
      "loss: 0.245638458373337\n",
      "loss: 0.1\n",
      "loss: 0.17994788094911535\n",
      "loss: 0.3361061582773282\n",
      "loss: 0.3466328350020573\n",
      "loss: 0.2499657111507338\n",
      "loss: 0.16724729118090798\n",
      "loss: 0.1\n",
      "loss: 0.2698806748045536\n",
      "loss: 0.1\n",
      "loss: 0.17243176518996023\n",
      "loss: 0.22721848854752436\n",
      "loss: 0.16724729118090798\n",
      "loss: 0.17994788094911535\n",
      "loss: 0.26373611301604716\n",
      "loss: 0.2540940886023865\n",
      "loss: 0.34675627485941574\n",
      "loss: 0.10002057330955973\n",
      "loss: 0.2396790563708682\n",
      "loss: 0.12762995473871896\n",
      "loss: 0.1559594020024688\n",
      "loss: 0.10220820189274447\n",
      "loss: 0.2811342751337251\n",
      "loss: 0.11220683033877384\n",
      "loss: 0.23936362630651864\n",
      "loss: 0.08974077629954738\n",
      "loss: 0.2478878068821512\n",
      "loss: 0.21066355318901284\n",
      "loss: 0.19699447015475252\n",
      "loss: 0.09053627760252365\n",
      "loss: 0.2195610023805058\n",
      "loss: 0.2184799021867565\n",
      "loss: 0.2493688237781586\n",
      "loss: 0.09713345220134412\n",
      "loss: 0.17733181417101712\n",
      "loss: 0.24614839810531522\n",
      "loss: 0.10002057330955973\n",
      "loss: 0.4303142204512771\n",
      "loss: 0.09493896584830613\n",
      "loss: 0.37051113399304164\n",
      "loss: 0.20471797268084646\n",
      "loss: 0.2382012731721037\n",
      "loss: 0.14271837607499863\n",
      "loss: 0.11777450673088588\n",
      "loss: 0.21926842109951405\n",
      "loss: 0.14626271824102194\n",
      "loss: 0.2668362063162603\n",
      "loss: 0.11426382214421749\n",
      "loss: 0.23196490924796134\n",
      "loss: 0.22545366694330804\n",
      "loss: 0.13780002725760163\n",
      "loss: 0.15189274053829535\n",
      "loss: 0.19103986081691668\n",
      "loss: 0.09895761898230696\n",
      "loss: 0.2211613124688413\n",
      "loss: 0.14253035942988804\n",
      "loss: 0.14495855770338914\n",
      "loss: 0.09960224929910544\n",
      "loss: 0.22608506681512006\n",
      "loss: 0.11462904723965854\n",
      "loss: 0.30635977759253147\n",
      "loss: 0.11104085825313491\n",
      "loss: 0.22670366539901568\n",
      "loss: 0.12194804800925804\n",
      "loss: 0.14198899569070328\n",
      "loss: 0.08096628159044121\n",
      "loss: 0.15766725716973215\n",
      "loss: 0.10590969626148437\n",
      "loss: 0.17679284759960284\n",
      "loss: 0.08901126237954743\n",
      "loss: 0.24574048552201425\n",
      "loss: 0.08342499120368882\n",
      "loss: 0.19621097599798476\n",
      "loss: 0.1060086409512432\n",
      "loss: 0.14454797292494734\n",
      "loss: 0.08881303331015951\n",
      "loss: 0.2084476785340421\n",
      "loss: 0.09800260059256521\n",
      "loss: 0.10891232693886016\n"
     ]
    },
    {
     "data": {
      "image/png": "[encoded data removed]",
      "text/plain": [
       "<matplotlib.figure.Figure at 0x110854f60>"
      ]
     },
     "metadata": {},
     "output_type": "display_data"
    }
   ],
   "source": [
    "neural_net.train(100)"
   ]
  },
  {
   "cell_type": "code",
   "execution_count": null,
   "metadata": {
    "collapsed": true
   },
   "outputs": [],
   "source": []
  },
  {
   "cell_type": "code",
   "execution_count": null,
   "metadata": {
    "collapsed": true
   },
   "outputs": [],
   "source": []
  }
 ],
 "metadata": {
  "kernelspec": {
   "display_name": "Python 3",
   "language": "python",
   "name": "python3"
  },
  "language_info": {
   "codemirror_mode": {
    "name": "ipython",
    "version": 3
   },
   "file_extension": ".py",
   "mimetype": "text/x-python",
   "name": "python",
   "nbconvert_exporter": "python",
   "pygments_lexer": "ipython3",
   "version": "3.6.3"
  },
  "latex_envs": {
   "LaTeX_envs_menu_present": true,
   "autoclose": false,
   "autocomplete": true,
   "bibliofile": "biblio.bib",
   "cite_by": "apalike",
   "current_citInitial": 1,
   "eqLabelWithNumbers": true,
   "eqNumInitial": 1,
   "hotkeys": {
    "equation": "Ctrl-E",
    "itemize": "Ctrl-I"
   },
   "labels_anchors": false,
   "latex_user_defs": false,
   "report_style_numbering": false,
   "user_envs_cfg": false
  }
 },
 "nbformat": 4,
 "nbformat_minor": 2
}

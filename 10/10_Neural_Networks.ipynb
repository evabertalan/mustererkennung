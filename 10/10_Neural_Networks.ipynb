{
 "cells": [
  {
   "cell_type": "code",
   "execution_count": 2,
   "metadata": {
    "collapsed": true
   },
   "outputs": [],
   "source": [
    "import numpy as np\n",
    "import matplotlib.pyplot as plt\n",
    "import pandas as pd\n",
    "%matplotlib inline"
   ]
  },
  {
   "cell_type": "markdown",
   "metadata": {},
   "source": [
    "### Excercise 1. Neural Network"
   ]
  },
  {
   "cell_type": "code",
   "execution_count": 17,
   "metadata": {
    "collapsed": true
   },
   "outputs": [],
   "source": [
    "training_data = np.array(pd.read_csv('zip.train', sep=' ', header=None))\n",
    "test_data = np.array(pd.read_csv('zip.test', sep =' ',header=None))\n",
    "\n",
    "x_train, y_train = training_data[:,1:-1], training_data[:,0]\n",
    "x_test, y_test = test_data[:,1:], test_data[:,0]"
   ]
  },
  {
   "cell_type": "code",
   "execution_count": 10,
   "metadata": {
    "collapsed": true
   },
   "outputs": [],
   "source": [
    "class NeuralNetwork:\n",
    "    def __init__(self, x, y, n_hidden, learning_rate=0.1, activation='sigmoid'):\n",
    "        self.x = x\n",
    "        self.n_input = x.shape[1]\n",
    "        self.n_hidden = n_hidden\n",
    "        self.n_output = y.shape[1]\n",
    "        self.lr = learning_rate\n",
    "        self.activation = activation\n",
    "        self.__initialize_weights()\n",
    "        \n",
    "    def __initialize_weights():\n",
    "        self.w1 = np.random.rand(self.n_input, self.n_hidden)\n",
    "        self.b1 = np.zeros((1, self.n_hidden))\n",
    "        \n",
    "        self.w2 = np.random.rand(self.self.n_hidden, self.n_hidden)\n",
    "        self.b2 = np.zeros((1, self.n_hidden))\n",
    "        \n",
    "        self.w3 =  np.random.rand(self.n_hidden, self.n_output) \n",
    "        self.b3 = np.zeros((1, self.n_output))\n",
    "        \n",
    "    def __activation(self, s):\n",
    "        if self.activation == 'relu':\n",
    "            return np.maximum(0, s)\n",
    "        \n",
    "        elif self.activation == 'sigmoid':\n",
    "            return 1 / (1 + np.exp(-s))\n",
    "    \n",
    "    def __activation_deriv(self, s):\n",
    "        if self.activation == 'relu':\n",
    "            s[s<=0] = 0\n",
    "            s[s>0] = 1\n",
    "            return s\n",
    "        \n",
    "        elif self.activation == 'sigmoid':\n",
    "            return s * (1 - s)\n",
    "    \n",
    "    def __cross_entropy(self,):\n",
    "        \n",
    "    \n",
    "    def __feedforward(self):\n",
    "        self.a1 = self.__activation(np.dot(self.x, self.w1)) + self.b1\n",
    "        self.a2 = self.__activation(np.dot(self.a1, self.w2)) + self.b2\n",
    "        self.a3 = self.__activation(np.dot(self.a2, self.w3)) + self.b3\n",
    "        \n",
    "    def __backprop(self):\n",
    "        pass\n",
    "    \n",
    "    def train(self, epochs):\n",
    "        for i in range(epochs):\n",
    "            self.__feedforward()\n",
    "            self.__backprop()\n",
    "        \n",
    "    \n",
    "    def predict(self):\n",
    "        pass"
   ]
  },
  {
   "cell_type": "code",
   "execution_count": 4,
   "metadata": {},
   "outputs": [],
   "source": [
    "neural_net = NeuralNetwork(n_input=3,\n",
    "                          n_hidden=4,\n",
    "                          n_output=2)"
   ]
  },
  {
   "cell_type": "code",
   "execution_count": null,
   "metadata": {
    "collapsed": true
   },
   "outputs": [],
   "source": []
  }
 ],
 "metadata": {
  "kernelspec": {
   "display_name": "Python 3",
   "language": "python",
   "name": "python3"
  },
  "language_info": {
   "codemirror_mode": {
    "name": "ipython",
    "version": 3
   },
   "file_extension": ".py",
   "mimetype": "text/x-python",
   "name": "python",
   "nbconvert_exporter": "python",
   "pygments_lexer": "ipython3",
   "version": "3.6.3"
  },
  "latex_envs": {
   "LaTeX_envs_menu_present": true,
   "autoclose": false,
   "autocomplete": true,
   "bibliofile": "biblio.bib",
   "cite_by": "apalike",
   "current_citInitial": 1,
   "eqLabelWithNumbers": true,
   "eqNumInitial": 1,
   "hotkeys": {
    "equation": "Ctrl-E",
    "itemize": "Ctrl-I"
   },
   "labels_anchors": false,
   "latex_user_defs": false,
   "report_style_numbering": false,
   "user_envs_cfg": false
  }
 },
 "nbformat": 4,
 "nbformat_minor": 2
}

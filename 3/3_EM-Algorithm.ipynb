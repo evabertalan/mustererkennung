{
 "cells": [
  {
   "cell_type": "markdown",
   "metadata": {},
   "source": [
    "## Assignment 3"
   ]
  },
  {
   "cell_type": "markdown",
   "metadata": {},
   "source": [
    "### 1. Implementation of the EM-Algorithm"
   ]
  },
  {
   "cell_type": "code",
   "execution_count": null,
   "metadata": {
    "collapsed": true
   },
   "outputs": [],
   "source": [
    "import numpy as np\n",
    "import matplotlib.pyplot as plt"
   ]
  },
  {
   "cell_type": "code",
   "execution_count": null,
   "metadata": {
    "collapsed": true
   },
   "outputs": [],
   "source": [
    "data = np.loadtxt(open(\"2d-em.csv\", \"rb\"), delimiter=\",\", skiprows=1)"
   ]
  },
  {
   "cell_type": "code",
   "execution_count": null,
   "metadata": {},
   "outputs": [],
   "source": [
    "class EM():\n",
    "    def __init__(self, X, number_of_clusters, iterations, show_plot=False):\n",
    "        self.X = X\n",
    "        self.K = number_of_clusters\n",
    "        self.iterations = iterations\n",
    "        self.show_plot = show_plot\n",
    "        self.mu = None\n",
    "        self.pi = None\n",
    "        self.cov = None\n",
    "        self.result = None\n",
    "\n",
    "    def __initialize_parameters(self):\n",
    "#         update this part to randomly generate parameters\n",
    "        self.mu = [[2,2], [-2,-2]]\n",
    "        self.cov = [[[1,0],[0,1]], [[1,0],[0,1]]]\n",
    "        self.pi = [0.5, 0.5]\n",
    "    \n",
    "    def __multivar_gauss(self, x, mu, sigma):\n",
    "        return 1 / ( ((2*np.pi)**(len(mu)/2)) * (np.linalg.det(sigma)**(1/2)) ) * np.exp((-1/2) * ((x-mu).T.dot(np.linalg.inv(sigma))).dot((x-mu)))\n",
    "    \n",
    "    def __predict_cluster(self, r):\n",
    "        return r.argmax(axis=1)\n",
    "    \n",
    "    def __show_plot(self, r):\n",
    "        fig2 = plt.figure(figsize=(5,5))\n",
    "        ax2 = fig2.add_subplot(111)\n",
    "        ax2.scatter(self.X[:,0], self.X[:,1], c=self.__predict_cluster(r), s=1)\n",
    "    \n",
    "    def run(self):\n",
    "        \"\"\"Plot the initial state\"\"\"   \n",
    "        fig1 = plt.figure(figsize=(5,5))\n",
    "        ax1 = fig1.add_subplot(111)\n",
    "        ax1.scatter(self.X[:,0],self.X[:,1], s=1)\n",
    "        ax1.set_title('Initial state')\n",
    "\n",
    "        self.__initialize_parameters()\n",
    "    \n",
    "        for i in range(self.iterations):\n",
    "            \"\"\"expectation step\"\"\"\n",
    "            r = np.zeros((len(self.X), self.K))\n",
    "            for c in range(self.K):\n",
    "                r[:,c] = [self.pi[c]*self.__multivar_gauss(x, self.mu[c], self.cov[c]) for x in self.X]\n",
    "            for j in range(len(r)):\n",
    "                r[j] = r[j]/(np.sum(self.pi)*np.sum(r,axis=1)[j])\n",
    "            \n",
    "            \"\"\"maximisation step\"\"\"\n",
    "            self.mu = []\n",
    "            self.cov = []\n",
    "            self.pi = []\n",
    "            for c in range(self.K):\n",
    "                m_c = np.sum(r[:,c],axis=0)\n",
    "                mu_c = (1/m_c)*np.sum(self.X*r[:,c].reshape(len(self.X),1),axis=0)\n",
    "                self.mu.append(mu_c)\n",
    "                self.cov.append(((1/m_c)*np.dot((np.array(r[:,c]).reshape(len(self.X),1)*(self.X-mu_c)).T,(self.X-mu_c))))\n",
    "                self.pi.append(m_c/np.sum(r))\n",
    "\n",
    "            if self.show_plot and i%5 == 0:\n",
    "                self.__show_plot(r)\n",
    "        \n",
    "        self.result = r\n",
    "        plt.show()\n",
    "    \n",
    "    def plot(self):\n",
    "        clusters = self.__predict_cluster(self.result)\n",
    "        fig3 = plt.figure(figsize=(10,10))\n",
    "        ax3 = fig3.add_subplot(111)\n",
    "        ax3.scatter(self.X[:,0], self.X[:,1], c=clusters, s=1)\n",
    "        \n",
    "        centers = np.array([np.mean(self.X[np.where(clusters == i)], axis=0) for i in range(self.K)])\n",
    "        ax3.scatter(centers[:,0], centers[:,1],  marker='x', s=200, linewidths=2)\n",
    "\n",
    "        ax3.set_title('Final state')\n",
    "        plt.show()"
   ]
  },
  {
   "cell_type": "code",
   "execution_count": null,
   "metadata": {},
   "outputs": [],
   "source": [
    "em = EM(data, 2 , 10, show_plot=False)\n",
    "em.run()"
   ]
  },
  {
   "cell_type": "code",
   "execution_count": null,
   "metadata": {},
   "outputs": [],
   "source": [
    "em.plot()"
   ]
  }
 ],
 "metadata": {
  "kernelspec": {
   "display_name": "Python 3",
   "language": "python",
   "name": "python3"
  },
  "language_info": {
   "codemirror_mode": {
    "name": "ipython",
    "version": 3
   },
   "file_extension": ".py",
   "mimetype": "text/x-python",
   "name": "python",
   "nbconvert_exporter": "python",
   "pygments_lexer": "ipython3",
   "version": "3.6.3"
  }
 },
 "nbformat": 4,
 "nbformat_minor": 2
}

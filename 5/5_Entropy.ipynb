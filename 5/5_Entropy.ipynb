{
 "cells": [
  {
   "cell_type": "markdown",
   "metadata": {},
   "source": [
    "## Hill climbin algorithm"
   ]
  },
  {
   "cell_type": "code",
   "execution_count": 1,
   "metadata": {
    "collapsed": true
   },
   "outputs": [],
   "source": [
    "import numpy as np\n",
    "import matplotlib.pyplot as plt\n",
    "%matplotlib inline"
   ]
  },
  {
   "cell_type": "markdown",
   "metadata": {},
   "source": [
    "### a) Maximize Entropy"
   ]
  },
  {
   "cell_type": "code",
   "execution_count": 2,
   "metadata": {
    "collapsed": true
   },
   "outputs": [],
   "source": [
    "def entropy(x):\n",
    "    return -np.sum(x*np.log(x))"
   ]
  },
  {
   "cell_type": "code",
   "execution_count": 3,
   "metadata": {
    "collapsed": true
   },
   "outputs": [],
   "source": [
    "def entropy_variance(y, lamb=-0.01):\n",
    "    x = np.arange(-50, 51)\n",
    "    variance = np.average(x**2, weights=y) - np.average(x, weights=y)**2\n",
    "    return entropy(y) - lamb * variance"
   ]
  },
  {
   "cell_type": "code",
   "execution_count": 4,
   "metadata": {
    "collapsed": true
   },
   "outputs": [],
   "source": [
    "support = range(-50, 51)"
   ]
  },
  {
   "cell_type": "code",
   "execution_count": 5,
   "metadata": {
    "collapsed": true
   },
   "outputs": [],
   "source": [
    "def hill_climbing(x, score, step_size, eps, max_iter=10**4):\n",
    "    current_x = x\n",
    "    step = [step_size, -step_size]\n",
    "    max_score = float('-inf')\n",
    "    k = 0\n",
    "    while True:\n",
    "        initial_score = score(current_x)\n",
    "        for i in range(len(x)):\n",
    "            for j in range(len(step)):\n",
    "                current_x[i] = current_x[i] + step[j]\n",
    "                nom_x = current_x/np.sum(current_x)\n",
    "                current_score = score(nom_x)\n",
    "                current_x[i] = current_x[i] - step[j]\n",
    "                if current_score > max_score:\n",
    "                    max_score = current_score\n",
    "                    best = j\n",
    "            current_x[i] = current_x[i] + step[best]\n",
    "            current_x = current_x/np.sum(current_x)\n",
    "        k += 1\n",
    "        if np.abs(current_score - initial_score) < eps or k == max_iter:\n",
    "            print('iteration: ', k)\n",
    "            return max_score, current_x"
   ]
  },
  {
   "cell_type": "code",
   "execution_count": 6,
   "metadata": {
    "collapsed": true
   },
   "outputs": [],
   "source": [
    "p = np.random.normal(1, 0.2, len(support))\n",
    "p = p/np.sum(p)"
   ]
  },
  {
   "cell_type": "code",
   "execution_count": 7,
   "metadata": {},
   "outputs": [
    {
     "data": {
      "image/png": "[encoded data removed]",
      "text/plain": [
       "<matplotlib.figure.Figure at 0x10761b048>"
      ]
     },
     "metadata": {},
     "output_type": "display_data"
    }
   ],
   "source": [
    "fig, ax = plt.subplots(1, 2, figsize=(15,5))\n",
    "ax[0].bar(support, p)\n",
    "ax[0].set_xlabel('x')\n",
    "ax[0].set_ylabel('p(x)')\n",
    "ax[0].set_title('Initial distribution with entropy {0}'.format(entropy(p)))\n",
    "ax[1].hist(p)\n",
    "plt.show()"
   ]
  },
  {
   "cell_type": "code",
   "execution_count": 8,
   "metadata": {},
   "outputs": [
    {
     "name": "stdout",
     "output_type": "stream",
     "text": [
      "iteration:  300\n"
     ]
    },
    {
     "data": {
      "text/plain": [
       "Text(0.5,1,'Maximized entropy 4.614347208090135')"
      ]
     },
     "execution_count": 8,
     "metadata": {},
     "output_type": "execute_result"
    },
    {
     "data": {
      "image/png": "[encoded data removed]",
      "text/plain": [
       "<matplotlib.figure.Figure at 0x10760da90>"
      ]
     },
     "metadata": {},
     "output_type": "display_data"
    }
   ],
   "source": [
    "max_entropy, values = hill_climbing(p, entropy, 10**-5, 10**-5)\n",
    "plt.bar(support, values)\n",
    "plt.xlabel('x')\n",
    "plt.ylabel('p(x)')\n",
    "plt.title('Maximized entropy {0}'.format(max_entropy))"
   ]
  },
  {
   "cell_type": "markdown",
   "metadata": {},
   "source": [
    "### b) Maximize:  H(X) + λ*V(X)  for λ=0.01"
   ]
  },
  {
   "cell_type": "code",
   "execution_count": null,
   "metadata": {},
   "outputs": [
    {
     "name": "stderr",
     "output_type": "stream",
     "text": [
      "/Users/evabertalan/miniconda3/lib/python3.6/site-packages/ipykernel_launcher.py:2: RuntimeWarning: invalid value encountered in log\n",
      "  \n"
     ]
    }
   ],
   "source": [
    "max_entropy_variance, values2 = hill_climbing(p, entropy_variance, 10**-5, 10**-5)\n",
    "plt.bar(support, values2)\n",
    "plt.xlabel('x')\n",
    "plt.ylabel('p(x)')\n",
    "plt.title(max_entropy_variance)"
   ]
  },
  {
   "cell_type": "code",
   "execution_count": null,
   "metadata": {},
   "outputs": [],
   "source": [
    "print(np.var(values2))"
   ]
  },
  {
   "cell_type": "markdown",
   "metadata": {},
   "source": [
    "### c) Kullback–Leibler divergence"
   ]
  }
 ],
 "metadata": {
  "kernelspec": {
   "display_name": "Python 3",
   "language": "python",
   "name": "python3"
  },
  "language_info": {
   "codemirror_mode": {
    "name": "ipython",
    "version": 3
   },
   "file_extension": ".py",
   "mimetype": "text/x-python",
   "name": "python",
   "nbconvert_exporter": "python",
   "pygments_lexer": "ipython3",
   "version": "3.6.3"
  }
 },
 "nbformat": 4,
 "nbformat_minor": 2
}

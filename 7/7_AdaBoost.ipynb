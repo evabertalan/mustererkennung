{
 "cells": [
  {
   "cell_type": "code",
   "execution_count": 1,
   "metadata": {
    "collapsed": true
   },
   "outputs": [],
   "source": [
    "import numpy as np\n",
    "import pandas as pd\n",
    "import matplotlib.pyplot as plt\n",
    "from sklearn.tree import DecisionTreeClassifier\n",
    "from sklearn.model_selection import cross_val_score\n",
    "%matplotlib inline"
   ]
  },
  {
   "cell_type": "markdown",
   "metadata": {},
   "source": [
    "### Excercise 1. Implement AdaBoost"
   ]
  },
  {
   "cell_type": "code",
   "execution_count": 2,
   "metadata": {
    "collapsed": true
   },
   "outputs": [],
   "source": [
    "def load_data(file_name):\n",
    "    data = np.array(pd.read_csv(file_name, sep=',', header=None))\n",
    "    np.random.shuffle(data)\n",
    "    split_index = int(len(data)*0.8)\n",
    "    X_train, y_train = data[0:split_index,0:-1], data[0:split_index,-1]\n",
    "    X_test, y_test = data[split_index:,0:-1], data[split_index:,-1]\n",
    "    y_train = np.where(y_train == 0, -1, y_train)\n",
    "    y_test = np.where(y_test == 0, -1, y_test)\n",
    "    return X_train, y_train, X_test, y_test"
   ]
  },
  {
   "cell_type": "code",
   "execution_count": 3,
   "metadata": {},
   "outputs": [],
   "source": [
    "X_train, y_train, X_test, y_test = load_data(file_name='spambase/spambase.data')"
   ]
  },
  {
   "cell_type": "code",
   "execution_count": 4,
   "metadata": {
    "collapsed": true
   },
   "outputs": [],
   "source": [
    "def binarize_features(data):\n",
    "    binary = []\n",
    "    for feature in data.T:\n",
    "        binary.append([1 if x >= np.mean(feature) else 0 for x in feature])\n",
    "    return np.array(binary).T"
   ]
  },
  {
   "cell_type": "code",
   "execution_count": 5,
   "metadata": {
    "collapsed": true
   },
   "outputs": [],
   "source": [
    "X_train = binarize_features(X_train)\n",
    "X_test = binarize_features(X_test)"
   ]
  },
  {
   "cell_type": "code",
   "execution_count": 6,
   "metadata": {},
   "outputs": [
    {
     "name": "stdout",
     "output_type": "stream",
     "text": [
      "accuracy: 78.77781762875678 %\n"
     ]
    }
   ],
   "source": [
    "tree = DecisionTreeClassifier(criterion='entropy', max_depth=1)\n",
    "predictions = np.mean(cross_val_score(tree, X_train, y_train,cv=10))\n",
    "print('accuracy:',predictions*100,'%')"
   ]
  },
  {
   "cell_type": "code",
   "execution_count": 7,
   "metadata": {},
   "outputs": [],
   "source": [
    "class AdaBoost:\n",
    "    def __init__(self, T):\n",
    "        self.T = T\n",
    "        self.models = []\n",
    "        self.alphas = []\n",
    "        self.predictions = []\n",
    "        self.errors = []\n",
    "    \n",
    "    def fit(self, X, y):\n",
    "        weights = [1/i for i in range(1, len(X)+1)]\n",
    "        \n",
    "        for t in range(self.T):\n",
    "            classifier = DecisionTreeClassifier(criterion='entropy', max_depth=1)\n",
    "            model = classifier.fit(X, y, sample_weight=weights)\n",
    "            prediction = model.predict(X)\n",
    "            wrong = np.where(prediction != y, 1, 0)\n",
    "            error = np.sum(weights * wrong) / np.sum(weights)\n",
    "            alpha = np.log((1 - error) / error)\n",
    "            weights = weights * np.exp(alpha * wrong)\n",
    "            \n",
    "            self.models.append(model)\n",
    "            self.alphas.append(alpha)\n",
    "            self.errors.append(len([np.where(prediction != y)][0][0])/len(y))\n",
    "        return self\n",
    "    \n",
    "    def predict(self, X_test):\n",
    "        for alpha,model in zip(self.alphas,self.models):\n",
    "            self.predictions.append(alpha * model.predict(X_test))\n",
    "        \n",
    "        return np.sign(np.sum(self.predictions, axis=0))\n",
    "\n",
    "    def plot(self):\n",
    "        plt.plot(self.errors)"
   ]
  },
  {
   "cell_type": "code",
   "execution_count": 8,
   "metadata": {},
   "outputs": [],
   "source": [
    "ada = AdaBoost(100)"
   ]
  },
  {
   "cell_type": "code",
   "execution_count": 9,
   "metadata": {},
   "outputs": [],
   "source": [
    "ada.fit(X_train, y_train)\n",
    "prediction = ada.predict(X_test)"
   ]
  },
  {
   "cell_type": "code",
   "execution_count": 10,
   "metadata": {
    "collapsed": true
   },
   "outputs": [],
   "source": [
    "def confusion_matrix(labels, predictions):\n",
    "    size = len(set(labels))\n",
    "    matrix = np.zeros((size, size))\n",
    "    for correct, predicted in zip(labels.astype(int), predictions.astype(int)):\n",
    "        matrix[correct][predicted] += 1\n",
    "    return matrix"
   ]
  },
  {
   "cell_type": "code",
   "execution_count": 11,
   "metadata": {},
   "outputs": [],
   "source": [
    "wrong = np.where(prediction != y_test)"
   ]
  },
  {
   "cell_type": "code",
   "execution_count": 12,
   "metadata": {},
   "outputs": [
    {
     "name": "stdout",
     "output_type": "stream",
     "text": [
      "accuracy: 99.8914223669924\n",
      "[[  0.   0.]\n",
      " [  0. 921.]]\n"
     ]
    }
   ],
   "source": [
    "accuracy = 1-len(wrong)/len(y_test)\n",
    "print('accuracy:', accuracy*100)\n",
    "print(confusion_matrix(y_test, prediction))"
   ]
  },
  {
   "cell_type": "code",
   "execution_count": 13,
   "metadata": {},
   "outputs": [
    {
     "data": {
      "image/png": "[encoded data removed]",
      "text/plain": [
       "<matplotlib.figure.Figure at 0x10b32e0f0>"
      ]
     },
     "metadata": {},
     "output_type": "display_data"
    }
   ],
   "source": [
    "ada.plot()"
   ]
  }
 ],
 "metadata": {
  "kernelspec": {
   "display_name": "Python 3",
   "language": "python",
   "name": "python3"
  },
  "language_info": {
   "codemirror_mode": {
    "name": "ipython",
    "version": 3
   },
   "file_extension": ".py",
   "mimetype": "text/x-python",
   "name": "python",
   "nbconvert_exporter": "python",
   "pygments_lexer": "ipython3",
   "version": "3.6.3"
  }
 },
 "nbformat": 4,
 "nbformat_minor": 2
}

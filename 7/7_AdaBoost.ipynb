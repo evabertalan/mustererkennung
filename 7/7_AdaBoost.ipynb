{
 "cells": [
  {
   "cell_type": "code",
   "execution_count": 4,
   "metadata": {
    "collapsed": true
   },
   "outputs": [],
   "source": [
    "import numpy as np\n",
    "import pandas as pd\n",
    "import matplotlib.pyplot as plt\n",
    "from sklearn.tree import DecisionTreeClassifier\n",
    "from sklearn.model_selection import cross_val_score\n",
    "%matplotlib inline"
   ]
  },
  {
   "cell_type": "markdown",
   "metadata": {},
   "source": [
    "### Excercise 1. Implement AdaBoost"
   ]
  },
  {
   "cell_type": "code",
   "execution_count": 53,
   "metadata": {
    "collapsed": true
   },
   "outputs": [],
   "source": [
    "def load_data(file_name):\n",
    "    data = np.array(pd.read_csv(file_name, sep=',', header=None))\n",
    "    np.random.shuffle(data)\n",
    "    split_index = int(len(data)*0.8)\n",
    "    X_train, y_train = data[0:split_index,0:-1], data[0:split_index,-1]\n",
    "    X_test, y_test = data[split_index:,0:-1], data[split_index:,-1]\n",
    "    y_train = np.where(y_train == 0, -1, y_train)\n",
    "    y_test = np.where(y_test == 0, -1, y_test)\n",
    "    return X_train, y_train, X_test, y_test"
   ]
  },
  {
   "cell_type": "code",
   "execution_count": null,
   "metadata": {
    "collapsed": true
   },
   "outputs": [],
   "source": [
    "# def load_data(file_name):\n",
    "#     data = np.array(pd.read_csv(file_name, sep=',', header=None))\n",
    "#     np.random.shuffle(data)\n",
    "#     X_train, y_train = data[:,0:-1], data[:,-1]\n",
    "#     y_train = np.where(y_train == 0, -1, y_train)\n",
    "#     return X_train, y_train"
   ]
  },
  {
   "cell_type": "code",
   "execution_count": 7,
   "metadata": {},
   "outputs": [],
   "source": [
    "X_train, y_train, X_test, y_test = load_data(file_name='spambase/spambase.data')"
   ]
  },
  {
   "cell_type": "code",
   "execution_count": 54,
   "metadata": {
    "collapsed": true
   },
   "outputs": [],
   "source": [
    "def binarize_features(data):\n",
    "    binary = []\n",
    "    for feature in data.T:\n",
    "        binary.append([1 if x >= np.mean(feature) else 0 for x in feature])\n",
    "    return np.array(binary).T"
   ]
  },
  {
   "cell_type": "code",
   "execution_count": 59,
   "metadata": {},
   "outputs": [
    {
     "ename": "NameError",
     "evalue": "name 'X_test' is not defined",
     "output_type": "error",
     "traceback": [
      "\u001b[0;31m---------------------------------------------------------------------------\u001b[0m",
      "\u001b[0;31mNameError\u001b[0m                                 Traceback (most recent call last)",
      "\u001b[0;32m<ipython-input-59-6864c86c5863>\u001b[0m in \u001b[0;36m<module>\u001b[0;34m()\u001b[0m\n\u001b[1;32m      1\u001b[0m \u001b[0mX_train\u001b[0m \u001b[0;34m=\u001b[0m \u001b[0mbinarize_features\u001b[0m\u001b[0;34m(\u001b[0m\u001b[0mX_train\u001b[0m\u001b[0;34m)\u001b[0m\u001b[0;34m\u001b[0m\u001b[0m\n\u001b[0;32m----> 2\u001b[0;31m \u001b[0mX_test\u001b[0m \u001b[0;34m=\u001b[0m \u001b[0mbinarize_features\u001b[0m\u001b[0;34m(\u001b[0m\u001b[0mX_test\u001b[0m\u001b[0;34m)\u001b[0m\u001b[0;34m\u001b[0m\u001b[0m\n\u001b[0m",
      "\u001b[0;31mNameError\u001b[0m: name 'X_test' is not defined"
     ]
    }
   ],
   "source": [
    "X_train = binarize_features(X_train)\n",
    "X_test = binarize_features(X_test)"
   ]
  },
  {
   "cell_type": "code",
   "execution_count": 56,
   "metadata": {},
   "outputs": [
    {
     "name": "stdout",
     "output_type": "stream",
     "text": [
      "accuracy: 78.26672446672613 %\n"
     ]
    }
   ],
   "source": [
    "tree = DecisionTreeClassifier(criterion='entropy', max_depth=1)\n",
    "predictions = np.mean(cross_val_score(tree, X_train, y_train,cv=10))\n",
    "print('accuracy:',predictions*100,'%')"
   ]
  },
  {
   "cell_type": "code",
   "execution_count": 57,
   "metadata": {},
   "outputs": [],
   "source": [
    "class AdaBoost:\n",
    "    def __init__(self, T):\n",
    "        self.T = T\n",
    "        self.models = []\n",
    "        self.alphas = []\n",
    "        self.predictions = []\n",
    "    \n",
    "    def fit(self, X, y):\n",
    "        weights = [1/i for i in range(1, len(X)+1)]\n",
    "        \n",
    "        for t in range(self.T):\n",
    "            classifier = DecisionTreeClassifier(criterion='entropy', max_depth=1)\n",
    "            model = classifier.fit(X, y, sample_weight=weights)\n",
    "            prediction = model.predict(X)\n",
    "            wrong = np.where(prediction != y, 1, 0)\n",
    "            error = np.sum(weights * wrong) / np.sum(weights)\n",
    "            alpha = np.log((1 - error) / error)\n",
    "            weights = weights * np.exp(alpha * wrong)\n",
    "            \n",
    "            self.models.append(model)\n",
    "            self.alphas.append(alpha)\n",
    "        return self\n",
    "    \n",
    "    def predict(self, X_test, y_test):\n",
    "        for alpha,model in zip(self.alphas,self.models):\n",
    "            self.predictions.append(alpha * model.predict(X_test))\n",
    "        \n",
    "        prediction = np.sign(np.sum(self.predictions, axis=0))\n",
    "        accuracy = 1 - len([np.where(prediction != y_test)][0][0])/len(y_test)\n",
    "        return prediction, accuracy"
   ]
  },
  {
   "cell_type": "code",
   "execution_count": 58,
   "metadata": {},
   "outputs": [
    {
     "ename": "NameError",
     "evalue": "name 'X_test' is not defined",
     "output_type": "error",
     "traceback": [
      "\u001b[0;31m---------------------------------------------------------------------------\u001b[0m",
      "\u001b[0;31mNameError\u001b[0m                                 Traceback (most recent call last)",
      "\u001b[0;32m<ipython-input-58-8933978d68be>\u001b[0m in \u001b[0;36m<module>\u001b[0;34m()\u001b[0m\n\u001b[1;32m      4\u001b[0m     \u001b[0mada\u001b[0m \u001b[0;34m=\u001b[0m \u001b[0mAdaBoost\u001b[0m\u001b[0;34m(\u001b[0m\u001b[0mi\u001b[0m\u001b[0;34m)\u001b[0m\u001b[0;34m\u001b[0m\u001b[0m\n\u001b[1;32m      5\u001b[0m     \u001b[0mada\u001b[0m\u001b[0;34m.\u001b[0m\u001b[0mfit\u001b[0m\u001b[0;34m(\u001b[0m\u001b[0mX_train\u001b[0m\u001b[0;34m,\u001b[0m \u001b[0my_train\u001b[0m\u001b[0;34m)\u001b[0m\u001b[0;34m\u001b[0m\u001b[0m\n\u001b[0;32m----> 6\u001b[0;31m     \u001b[0mprediction\u001b[0m\u001b[0;34m,\u001b[0m \u001b[0maccuracy\u001b[0m \u001b[0;34m=\u001b[0m \u001b[0mada\u001b[0m\u001b[0;34m.\u001b[0m\u001b[0mpredict\u001b[0m\u001b[0;34m(\u001b[0m\u001b[0mX_test\u001b[0m\u001b[0;34m,\u001b[0m \u001b[0my_test\u001b[0m\u001b[0;34m)\u001b[0m\u001b[0;34m\u001b[0m\u001b[0m\n\u001b[0m\u001b[1;32m      7\u001b[0m     \u001b[0mprediction_\u001b[0m\u001b[0;34m.\u001b[0m\u001b[0mappend\u001b[0m\u001b[0;34m(\u001b[0m\u001b[0mprediction_\u001b[0m\u001b[0;34m)\u001b[0m\u001b[0;34m\u001b[0m\u001b[0m\n\u001b[1;32m      8\u001b[0m     \u001b[0maccuracy_\u001b[0m\u001b[0;34m.\u001b[0m\u001b[0mappend\u001b[0m\u001b[0;34m(\u001b[0m\u001b[0maccuracy\u001b[0m\u001b[0;34m)\u001b[0m\u001b[0;34m\u001b[0m\u001b[0m\n",
      "\u001b[0;31mNameError\u001b[0m: name 'X_test' is not defined"
     ]
    }
   ],
   "source": [
    "prediction_ = []\n",
    "accuracy_ = []\n",
    "for i in range(1, 100):\n",
    "    ada = AdaBoost(i)\n",
    "    ada.fit(X_train, y_train)\n",
    "    prediction, accuracy = ada.predict(X_test, y_test)\n",
    "    prediction_.append(prediction_)\n",
    "    accuracy_.append(accuracy)"
   ]
  },
  {
   "cell_type": "code",
   "execution_count": 52,
   "metadata": {
    "collapsed": true
   },
   "outputs": [],
   "source": [
    "def confusion_matrix(labels, predictions):\n",
    "    return pd.crosstab(labels, predictions)\n",
    "#     size = len(set(labels))\n",
    "#     matrix = np.zeros((size, size))\n",
    "#     for correct, predicted in zip(labels.astype(int), predictions.astype(int)):\n",
    "#         matrix[correct][predicted] += 1\n",
    "#     return matrix"
   ]
  },
  {
   "cell_type": "code",
   "execution_count": 46,
   "metadata": {},
   "outputs": [],
   "source": [
    "wrong = np.where(prediction != y_train)"
   ]
  },
  {
   "cell_type": "code",
   "execution_count": 51,
   "metadata": {},
   "outputs": [
    {
     "name": "stdout",
     "output_type": "stream",
     "text": [
      "accuracy: 99.97826559443598\n",
      "None\n"
     ]
    }
   ],
   "source": [
    "accuracy = 1-len(wrong)/len(y_train)\n",
    "print('accuracy:', accuracy*100)\n",
    "print(confusion_matrix(y_train, prediction))"
   ]
  },
  {
   "cell_type": "code",
   "execution_count": 43,
   "metadata": {},
   "outputs": [
    {
     "data": {
      "image/png": "[encoded data removed]",
      "text/plain": [
       "<matplotlib.figure.Figure at 0x10f708c18>"
      ]
     },
     "metadata": {},
     "output_type": "display_data"
    }
   ],
   "source": [
    "plt.plot(accuracy_)\n",
    "plt.show()"
   ]
  },
  {
   "cell_type": "code",
   "execution_count": null,
   "metadata": {
    "collapsed": true
   },
   "outputs": [],
   "source": []
  }
 ],
 "metadata": {
  "kernelspec": {
   "display_name": "Python 3",
   "language": "python",
   "name": "python3"
  },
  "language_info": {
   "codemirror_mode": {
    "name": "ipython",
    "version": 3
   },
   "file_extension": ".py",
   "mimetype": "text/x-python",
   "name": "python",
   "nbconvert_exporter": "python",
   "pygments_lexer": "ipython3",
   "version": "3.6.3"
  }
 },
 "nbformat": 4,
 "nbformat_minor": 2
}
